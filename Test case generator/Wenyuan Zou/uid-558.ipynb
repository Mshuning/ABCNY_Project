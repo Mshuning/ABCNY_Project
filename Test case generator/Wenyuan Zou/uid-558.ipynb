{
 "cells": [
  {
   "cell_type": "code",
   "execution_count": 10,
   "id": "a5b2af21",
   "metadata": {},
   "outputs": [],
   "source": [
    "# -----------------------------------\n",
    "# TEST CASE TYPE REFERENCE INFORMATION\n",
    "# -----------------------------------\n",
    "\n",
    "uid = 'UID-558' \n",
    "theme = 'Names where Name Parts are Modified'\n",
    "category = 'Character Replaced by Number'\n",
    "sub_category = '>2 Letters replaced by numbers - different name part'\n",
    "entity_type = 'Vessel'\n",
    "\n",
    "# ********************"
   ]
  },
  {
   "cell_type": "markdown",
   "id": "f7dd31a9",
   "metadata": {},
   "source": [
    "def character_to_number():\n",
    "    character_to_number_dict = {\n",
    "        'A' : '4', 'B' : '8',OR B: 4?\n",
    "        'C' : ?\n",
    "        \n",
    "\treturn numbers_to_words_dict"
   ]
  },
  {
   "cell_type": "code",
   "execution_count": 33,
   "id": "96e37dac",
   "metadata": {},
   "outputs": [],
   "source": [
    "import random\n",
    "def replace_1_random_character(phrase,k):\n",
    "    for num in random.sample(range(0, len(phrase)),k):\n",
    "        phrase = phrase[:num] +str(random.randint(0,9)) + phrase[num + 1:]\n",
    "    return phrase"
   ]
  },
  {
   "cell_type": "code",
   "execution_count": 12,
   "id": "885bd025",
   "metadata": {},
   "outputs": [],
   "source": [
    "import pandas as pd\n",
    "from test_case_generator_functions import alphabet\n",
    "\n",
    "# download the OFAC list from the web\n",
    "\n",
    "ofac_list_download = pd.read_csv('https://www.treasury.gov/ofac/downloads/sdn.csv', header=None)\n",
    "ofac_list = ofac_list_download[[0,1,2]]\n",
    "ofac_list.columns = ['uid', 'name', 'entity_type']\n"
   ]
  },
  {
   "cell_type": "code",
   "execution_count": 46,
   "id": "79f47c02",
   "metadata": {},
   "outputs": [],
   "source": [
    "ofac_list_filtered = ofac_list[(ofac_list.entity_type == 'vessel')] # only evaluate vessel\n",
    "ofac_list_filtered = ofac_list_filtered[(ofac_list_filtered.name.str.count(' ') > 3)] # only evaluate names with more than 3 words"
   ]
  },
  {
   "cell_type": "code",
   "execution_count": 48,
   "id": "2ec0adf7",
   "metadata": {},
   "outputs": [
    {
     "data": {
      "text/html": [
       "<div>\n",
       "<style scoped>\n",
       "    .dataframe tbody tr th:only-of-type {\n",
       "        vertical-align: middle;\n",
       "    }\n",
       "\n",
       "    .dataframe tbody tr th {\n",
       "        vertical-align: top;\n",
       "    }\n",
       "\n",
       "    .dataframe thead th {\n",
       "        text-align: right;\n",
       "    }\n",
       "</style>\n",
       "<table border=\"1\" class=\"dataframe\">\n",
       "  <thead>\n",
       "    <tr style=\"text-align: right;\">\n",
       "      <th></th>\n",
       "      <th>uid</th>\n",
       "      <th>name</th>\n",
       "      <th>entity_type</th>\n",
       "    </tr>\n",
       "  </thead>\n",
       "  <tbody>\n",
       "    <tr>\n",
       "      <th>3727</th>\n",
       "      <td>17089</td>\n",
       "      <td>JANG JA SAN CHONG NYON HO</td>\n",
       "      <td>vessel</td>\n",
       "    </tr>\n",
       "    <tr>\n",
       "      <th>3731</th>\n",
       "      <td>17093</td>\n",
       "      <td>O UN CHONG NYON HO</td>\n",
       "      <td>vessel</td>\n",
       "    </tr>\n",
       "  </tbody>\n",
       "</table>\n",
       "</div>"
      ],
      "text/plain": [
       "        uid                       name entity_type\n",
       "3727  17089  JANG JA SAN CHONG NYON HO      vessel\n",
       "3731  17093         O UN CHONG NYON HO      vessel"
      ]
     },
     "execution_count": 48,
     "metadata": {},
     "output_type": "execute_result"
    }
   ],
   "source": [
    "ofac_list_sampled = ofac_list_filtered\n",
    "ofac_list_sampled"
   ]
  },
  {
   "cell_type": "code",
   "execution_count": 50,
   "id": "0c7cebe5",
   "metadata": {},
   "outputs": [
    {
     "data": {
      "text/html": [
       "<div>\n",
       "<style scoped>\n",
       "    .dataframe tbody tr th:only-of-type {\n",
       "        vertical-align: middle;\n",
       "    }\n",
       "\n",
       "    .dataframe tbody tr th {\n",
       "        vertical-align: top;\n",
       "    }\n",
       "\n",
       "    .dataframe thead th {\n",
       "        text-align: right;\n",
       "    }\n",
       "</style>\n",
       "<table border=\"1\" class=\"dataframe\">\n",
       "  <thead>\n",
       "    <tr style=\"text-align: right;\">\n",
       "      <th></th>\n",
       "      <th>UID</th>\n",
       "      <th>Theme</th>\n",
       "      <th>Category</th>\n",
       "      <th>Sub-category</th>\n",
       "      <th>Entity-Type</th>\n",
       "      <th>Test Case ID</th>\n",
       "      <th>OFAC List UID</th>\n",
       "      <th>Original Name</th>\n",
       "      <th>Test Case Name</th>\n",
       "    </tr>\n",
       "  </thead>\n",
       "  <tbody>\n",
       "  </tbody>\n",
       "</table>\n",
       "</div>"
      ],
      "text/plain": [
       "Empty DataFrame\n",
       "Columns: [UID, Theme, Category, Sub-category, Entity-Type, Test Case ID, OFAC List UID, Original Name, Test Case Name]\n",
       "Index: []"
      ]
     },
     "execution_count": 50,
     "metadata": {},
     "output_type": "execute_result"
    }
   ],
   "source": [
    "# create blank final test cases table\n",
    "\n",
    "final_test_cases = pd.DataFrame(columns=['UID', 'Theme','Category','Sub-category','Entity-Type','Test Case ID' , 'OFAC List UID', 'Original Name','Test Case Name'])\n",
    "final_test_cases"
   ]
  },
  {
   "cell_type": "code",
   "execution_count": 52,
   "id": "39c9ebf2",
   "metadata": {},
   "outputs": [
    {
     "data": {
      "text/html": [
       "<div>\n",
       "<style scoped>\n",
       "    .dataframe tbody tr th:only-of-type {\n",
       "        vertical-align: middle;\n",
       "    }\n",
       "\n",
       "    .dataframe tbody tr th {\n",
       "        vertical-align: top;\n",
       "    }\n",
       "\n",
       "    .dataframe thead th {\n",
       "        text-align: right;\n",
       "    }\n",
       "</style>\n",
       "<table border=\"1\" class=\"dataframe\">\n",
       "  <thead>\n",
       "    <tr style=\"text-align: right;\">\n",
       "      <th></th>\n",
       "      <th>UID</th>\n",
       "      <th>Theme</th>\n",
       "      <th>Category</th>\n",
       "      <th>Sub-category</th>\n",
       "      <th>Entity-Type</th>\n",
       "      <th>Test Case ID</th>\n",
       "      <th>OFAC List UID</th>\n",
       "      <th>Original Name</th>\n",
       "      <th>Test Case Name</th>\n",
       "    </tr>\n",
       "  </thead>\n",
       "  <tbody>\n",
       "    <tr>\n",
       "      <th>0</th>\n",
       "      <td>UID-558</td>\n",
       "      <td>Names where Name Parts are Modified</td>\n",
       "      <td>Character Replaced by Number</td>\n",
       "      <td>&gt;2 Letters replaced by numbers - different nam...</td>\n",
       "      <td>Vessel</td>\n",
       "      <td>UID-558 - 3727</td>\n",
       "      <td>17089</td>\n",
       "      <td>JANG JA SAN CHONG NYON HO</td>\n",
       "      <td>JANG J3 3AN CHO2G  CHONG NYON HO</td>\n",
       "    </tr>\n",
       "    <tr>\n",
       "      <th>1</th>\n",
       "      <td>UID-558</td>\n",
       "      <td>Names where Name Parts are Modified</td>\n",
       "      <td>Character Replaced by Number</td>\n",
       "      <td>&gt;2 Letters replaced by numbers - different nam...</td>\n",
       "      <td>Vessel</td>\n",
       "      <td>UID-558 - 3731</td>\n",
       "      <td>17093</td>\n",
       "      <td>O UN CHONG NYON HO</td>\n",
       "      <td>O 9N CHO1G NY7N HO</td>\n",
       "    </tr>\n",
       "  </tbody>\n",
       "</table>\n",
       "</div>"
      ],
      "text/plain": [
       "       UID                                Theme                      Category  \\\n",
       "0  UID-558  Names where Name Parts are Modified  Character Replaced by Number   \n",
       "1  UID-558  Names where Name Parts are Modified  Character Replaced by Number   \n",
       "\n",
       "                                        Sub-category Entity-Type  \\\n",
       "0  >2 Letters replaced by numbers - different nam...      Vessel   \n",
       "1  >2 Letters replaced by numbers - different nam...      Vessel   \n",
       "\n",
       "     Test Case ID OFAC List UID              Original Name  \\\n",
       "0  UID-558 - 3727         17089  JANG JA SAN CHONG NYON HO   \n",
       "1  UID-558 - 3731         17093         O UN CHONG NYON HO   \n",
       "\n",
       "                     Test Case Name  \n",
       "0  JANG J3 3AN CHO2G  CHONG NYON HO  \n",
       "1                O 9N CHO1G NY7N HO  "
      ]
     },
     "execution_count": 52,
     "metadata": {},
     "output_type": "execute_result"
    }
   ],
   "source": [
    "# run loop to generate the test cases\n",
    "\n",
    "for index, row in ofac_list_sampled.iterrows():\n",
    "        number_of_words = row['name'].count(' ') + 1 # determine for each name the number of words\n",
    "        name_words=row['name'].split()\n",
    "        if number_of_words==5 :\n",
    "            final_test_name=name_words[0]+' '+replace_1_random_character(name_words[1],1)+' '+replace_1_random_character(name_words[2],1)+' '+replace_1_random_character(name_words[3],1)+' '+name_words[4]# create the test case\n",
    "            final_test_cases.loc[len(final_test_cases)] = [uid, theme, category, sub_category, entity_type, uid + ' - ' + str(index), row['uid'], row['name'], final_test_name] # append to the dataframe\n",
    "        else:\n",
    "            name_words=row['name'].split()\n",
    "            final_test_name_0=''\n",
    "            for i in range(3,len(name_words)):\n",
    "                final_test_name_0=final_test_name_0+' '+name_words[i]\n",
    "            final_test_name=name_words[0]+' '+replace_1_random_character(name_words[1],1)+' '+replace_1_random_character(name_words[2],1)+' '+replace_1_random_character(name_words[3],1)+' '+final_test_name_0# create the test case\n",
    "            final_test_cases.loc[len(final_test_cases)] = [uid, theme, category, sub_category, entity_type, uid + ' - ' + str(index), row['uid'], row['name'], final_test_name] # append to the dataframe\n",
    "\n",
    "            \n",
    "\n",
    "final_test_cases      "
   ]
  },
  {
   "cell_type": "code",
   "execution_count": null,
   "id": "d8959b7d",
   "metadata": {},
   "outputs": [],
   "source": []
  }
 ],
 "metadata": {
  "kernelspec": {
   "display_name": "Python 3",
   "language": "python",
   "name": "python3"
  },
  "language_info": {
   "codemirror_mode": {
    "name": "ipython",
    "version": 3
   },
   "file_extension": ".py",
   "mimetype": "text/x-python",
   "name": "python",
   "nbconvert_exporter": "python",
   "pygments_lexer": "ipython3",
   "version": "3.8.8"
  }
 },
 "nbformat": 4,
 "nbformat_minor": 5
}
