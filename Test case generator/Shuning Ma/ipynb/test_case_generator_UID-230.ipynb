{
 "cells": [
  {
   "cell_type": "markdown",
   "id": "e587297b",
   "metadata": {},
   "source": [
    "# IMPORT DATA, PACKAGES, AND FUNCTIONS"
   ]
  },
  {
   "cell_type": "markdown",
   "id": "2bf79a81",
   "metadata": {},
   "source": [
    "## import the relevant functions and packages"
   ]
  },
  {
   "cell_type": "code",
   "execution_count": 1,
   "id": "000435e8",
   "metadata": {},
   "outputs": [],
   "source": [
    "import pandas as pd\n",
    "import numpy as np\n",
    "from test_case_generator_functions import alphabet"
   ]
  },
  {
   "cell_type": "markdown",
   "id": "f63740d7",
   "metadata": {},
   "source": [
    "# TEST CASE TYPE REFERENCE INFORMATION"
   ]
  },
  {
   "cell_type": "code",
   "execution_count": 2,
   "id": "4b3f7972",
   "metadata": {},
   "outputs": [],
   "source": [
    "uid = 'UID-230' \n",
    "theme = 'Names where name parts are Modified'\n",
    "category = 'Repetitions'\n",
    "sub_category = '1 letters repeated once'\n",
    "entity_type = 'Individual'"
   ]
  },
  {
   "cell_type": "markdown",
   "id": "8aeeb278",
   "metadata": {},
   "source": [
    "## download the OFAC list from the web"
   ]
  },
  {
   "cell_type": "code",
   "execution_count": 3,
   "id": "a27d14e3",
   "metadata": {},
   "outputs": [],
   "source": [
    "ofac_list_download = pd.read_csv('https://www.treasury.gov/ofac/downloads/sdn.csv', header=None)"
   ]
  },
  {
   "cell_type": "code",
   "execution_count": 4,
   "id": "e7436dad",
   "metadata": {},
   "outputs": [],
   "source": [
    "ofac_list = ofac_list_download[[0,1,2]]\n",
    "ofac_list.columns = ['uid', 'name', 'entity_type']"
   ]
  },
  {
   "cell_type": "markdown",
   "id": "401067db",
   "metadata": {},
   "source": [
    "# FILTER FOR THE REQUIREMENTS OF THE TEST CASE TYPE"
   ]
  },
  {
   "cell_type": "markdown",
   "id": "f486eee5",
   "metadata": {},
   "source": [
    "## filter for the requirements of the specific test case type"
   ]
  },
  {
   "cell_type": "code",
   "execution_count": 5,
   "id": "01588e99",
   "metadata": {},
   "outputs": [],
   "source": [
    "ofac_list_filtered = ofac_list[(ofac_list.entity_type == 'individual')] # only evaluate entities"
   ]
  },
  {
   "cell_type": "markdown",
   "id": "d5b2e9b2",
   "metadata": {},
   "source": [
    "## randomly choose 10 rows"
   ]
  },
  {
   "cell_type": "code",
   "execution_count": 6,
   "id": "edc174eb",
   "metadata": {},
   "outputs": [
    {
     "data": {
      "text/html": [
       "<div>\n",
       "<style scoped>\n",
       "    .dataframe tbody tr th:only-of-type {\n",
       "        vertical-align: middle;\n",
       "    }\n",
       "\n",
       "    .dataframe tbody tr th {\n",
       "        vertical-align: top;\n",
       "    }\n",
       "\n",
       "    .dataframe thead th {\n",
       "        text-align: right;\n",
       "    }\n",
       "</style>\n",
       "<table border=\"1\" class=\"dataframe\">\n",
       "  <thead>\n",
       "    <tr style=\"text-align: right;\">\n",
       "      <th></th>\n",
       "      <th>uid</th>\n",
       "      <th>name</th>\n",
       "      <th>entity_type</th>\n",
       "    </tr>\n",
       "  </thead>\n",
       "  <tbody>\n",
       "    <tr>\n",
       "      <th>2748</th>\n",
       "      <td>15022</td>\n",
       "      <td>VAZQUEZ VILLAVICENCIO, Gabriela</td>\n",
       "      <td>individual</td>\n",
       "    </tr>\n",
       "    <tr>\n",
       "      <th>2395</th>\n",
       "      <td>12595</td>\n",
       "      <td>HAJI ABDUL QAYOUM, Eissa Jan</td>\n",
       "      <td>individual</td>\n",
       "    </tr>\n",
       "    <tr>\n",
       "      <th>6087</th>\n",
       "      <td>24753</td>\n",
       "      <td>AJAKA, Tony</td>\n",
       "      <td>individual</td>\n",
       "    </tr>\n",
       "    <tr>\n",
       "      <th>7725</th>\n",
       "      <td>28930</td>\n",
       "      <td>LEAL JIMENEZ, Joaquin</td>\n",
       "      <td>individual</td>\n",
       "    </tr>\n",
       "    <tr>\n",
       "      <th>10159</th>\n",
       "      <td>36855</td>\n",
       "      <td>RYABUKHIN, Sergey Nikolayevich</td>\n",
       "      <td>individual</td>\n",
       "    </tr>\n",
       "    <tr>\n",
       "      <th>7082</th>\n",
       "      <td>26862</td>\n",
       "      <td>SALIH AL HASANI, Mohammed Hussein</td>\n",
       "      <td>individual</td>\n",
       "    </tr>\n",
       "    <tr>\n",
       "      <th>8390</th>\n",
       "      <td>31167</td>\n",
       "      <td>AFANASYEVA, Yulia Andreevna</td>\n",
       "      <td>individual</td>\n",
       "    </tr>\n",
       "    <tr>\n",
       "      <th>10650</th>\n",
       "      <td>37858</td>\n",
       "      <td>SERDYUKOVA, Natalya Anatolevna</td>\n",
       "      <td>individual</td>\n",
       "    </tr>\n",
       "    <tr>\n",
       "      <th>6825</th>\n",
       "      <td>26391</td>\n",
       "      <td>SHIRINKAR, Mohammad Bagher</td>\n",
       "      <td>individual</td>\n",
       "    </tr>\n",
       "    <tr>\n",
       "      <th>9178</th>\n",
       "      <td>34779</td>\n",
       "      <td>PANTUS, Dmitry Aleksandrovich</td>\n",
       "      <td>individual</td>\n",
       "    </tr>\n",
       "  </tbody>\n",
       "</table>\n",
       "</div>"
      ],
      "text/plain": [
       "         uid                               name entity_type\n",
       "2748   15022    VAZQUEZ VILLAVICENCIO, Gabriela  individual\n",
       "2395   12595       HAJI ABDUL QAYOUM, Eissa Jan  individual\n",
       "6087   24753                        AJAKA, Tony  individual\n",
       "7725   28930              LEAL JIMENEZ, Joaquin  individual\n",
       "10159  36855     RYABUKHIN, Sergey Nikolayevich  individual\n",
       "7082   26862  SALIH AL HASANI, Mohammed Hussein  individual\n",
       "8390   31167        AFANASYEVA, Yulia Andreevna  individual\n",
       "10650  37858     SERDYUKOVA, Natalya Anatolevna  individual\n",
       "6825   26391         SHIRINKAR, Mohammad Bagher  individual\n",
       "9178   34779      PANTUS, Dmitry Aleksandrovich  individual"
      ]
     },
     "execution_count": 6,
     "metadata": {},
     "output_type": "execute_result"
    }
   ],
   "source": [
    "ofac_list_sampled = ofac_list_filtered.sample(n = 10)\n",
    "ofac_list_sampled"
   ]
  },
  {
   "cell_type": "markdown",
   "id": "58f19a68",
   "metadata": {},
   "source": [
    "# CREATE THE TEST CASES"
   ]
  },
  {
   "cell_type": "markdown",
   "id": "41205b68",
   "metadata": {},
   "source": [
    "## create blank final test cases table"
   ]
  },
  {
   "cell_type": "code",
   "execution_count": 7,
   "id": "c72219d5",
   "metadata": {},
   "outputs": [
    {
     "data": {
      "text/html": [
       "<div>\n",
       "<style scoped>\n",
       "    .dataframe tbody tr th:only-of-type {\n",
       "        vertical-align: middle;\n",
       "    }\n",
       "\n",
       "    .dataframe tbody tr th {\n",
       "        vertical-align: top;\n",
       "    }\n",
       "\n",
       "    .dataframe thead th {\n",
       "        text-align: right;\n",
       "    }\n",
       "</style>\n",
       "<table border=\"1\" class=\"dataframe\">\n",
       "  <thead>\n",
       "    <tr style=\"text-align: right;\">\n",
       "      <th></th>\n",
       "      <th>UID</th>\n",
       "      <th>Theme</th>\n",
       "      <th>Category</th>\n",
       "      <th>Sub-category</th>\n",
       "      <th>Entity-Type</th>\n",
       "      <th>Test Case ID</th>\n",
       "      <th>OFAC List UID</th>\n",
       "      <th>Original Name</th>\n",
       "      <th>Test Case Name</th>\n",
       "    </tr>\n",
       "  </thead>\n",
       "  <tbody>\n",
       "  </tbody>\n",
       "</table>\n",
       "</div>"
      ],
      "text/plain": [
       "Empty DataFrame\n",
       "Columns: [UID, Theme, Category, Sub-category, Entity-Type, Test Case ID, OFAC List UID, Original Name, Test Case Name]\n",
       "Index: []"
      ]
     },
     "execution_count": 7,
     "metadata": {},
     "output_type": "execute_result"
    }
   ],
   "source": [
    "final_test_cases = pd.DataFrame(columns=['UID', 'Theme','Category','Sub-category','Entity-Type','Test Case ID' , 'OFAC List UID', 'Original Name','Test Case Name'])\n",
    "final_test_cases"
   ]
  },
  {
   "cell_type": "markdown",
   "id": "e8949bbd",
   "metadata": {},
   "source": [
    "## run loop to generate the test cases"
   ]
  },
  {
   "cell_type": "code",
   "execution_count": 8,
   "id": "f18b6995",
   "metadata": {},
   "outputs": [
    {
     "data": {
      "text/html": [
       "<div>\n",
       "<style scoped>\n",
       "    .dataframe tbody tr th:only-of-type {\n",
       "        vertical-align: middle;\n",
       "    }\n",
       "\n",
       "    .dataframe tbody tr th {\n",
       "        vertical-align: top;\n",
       "    }\n",
       "\n",
       "    .dataframe thead th {\n",
       "        text-align: right;\n",
       "    }\n",
       "</style>\n",
       "<table border=\"1\" class=\"dataframe\">\n",
       "  <thead>\n",
       "    <tr style=\"text-align: right;\">\n",
       "      <th></th>\n",
       "      <th>UID</th>\n",
       "      <th>Theme</th>\n",
       "      <th>Category</th>\n",
       "      <th>Sub-category</th>\n",
       "      <th>Entity-Type</th>\n",
       "      <th>Test Case ID</th>\n",
       "      <th>OFAC List UID</th>\n",
       "      <th>Original Name</th>\n",
       "      <th>Test Case Name</th>\n",
       "    </tr>\n",
       "  </thead>\n",
       "  <tbody>\n",
       "    <tr>\n",
       "      <th>0</th>\n",
       "      <td>UID-230</td>\n",
       "      <td>Names where name parts are Modified</td>\n",
       "      <td>Repetitions</td>\n",
       "      <td>1 letters repeated once</td>\n",
       "      <td>Individual</td>\n",
       "      <td>UID-230 - 2748</td>\n",
       "      <td>15022</td>\n",
       "      <td>VAZQUEZ VILLAVICENCIO, Gabriela</td>\n",
       "      <td>VAZQUEZZ VILLAVICENCIO, GABRIELA</td>\n",
       "    </tr>\n",
       "    <tr>\n",
       "      <th>1</th>\n",
       "      <td>UID-230</td>\n",
       "      <td>Names where name parts are Modified</td>\n",
       "      <td>Repetitions</td>\n",
       "      <td>1 letters repeated once</td>\n",
       "      <td>Individual</td>\n",
       "      <td>UID-230 - 2395</td>\n",
       "      <td>12595</td>\n",
       "      <td>HAJI ABDUL QAYOUM, Eissa Jan</td>\n",
       "      <td>HAJI ABDUL QAYYOUM, EISSA JAN</td>\n",
       "    </tr>\n",
       "    <tr>\n",
       "      <th>2</th>\n",
       "      <td>UID-230</td>\n",
       "      <td>Names where name parts are Modified</td>\n",
       "      <td>Repetitions</td>\n",
       "      <td>1 letters repeated once</td>\n",
       "      <td>Individual</td>\n",
       "      <td>UID-230 - 6087</td>\n",
       "      <td>24753</td>\n",
       "      <td>AJAKA, Tony</td>\n",
       "      <td>AAJAKA, TONY</td>\n",
       "    </tr>\n",
       "    <tr>\n",
       "      <th>3</th>\n",
       "      <td>UID-230</td>\n",
       "      <td>Names where name parts are Modified</td>\n",
       "      <td>Repetitions</td>\n",
       "      <td>1 letters repeated once</td>\n",
       "      <td>Individual</td>\n",
       "      <td>UID-230 - 7725</td>\n",
       "      <td>28930</td>\n",
       "      <td>LEAL JIMENEZ, Joaquin</td>\n",
       "      <td>LEAL JIMENEZ, JOAQUINN</td>\n",
       "    </tr>\n",
       "    <tr>\n",
       "      <th>4</th>\n",
       "      <td>UID-230</td>\n",
       "      <td>Names where name parts are Modified</td>\n",
       "      <td>Repetitions</td>\n",
       "      <td>1 letters repeated once</td>\n",
       "      <td>Individual</td>\n",
       "      <td>UID-230 - 10159</td>\n",
       "      <td>36855</td>\n",
       "      <td>RYABUKHIN, Sergey Nikolayevich</td>\n",
       "      <td>RRYABUKHIN, SERGEY NIKOLAYEVICH</td>\n",
       "    </tr>\n",
       "    <tr>\n",
       "      <th>5</th>\n",
       "      <td>UID-230</td>\n",
       "      <td>Names where name parts are Modified</td>\n",
       "      <td>Repetitions</td>\n",
       "      <td>1 letters repeated once</td>\n",
       "      <td>Individual</td>\n",
       "      <td>UID-230 - 7082</td>\n",
       "      <td>26862</td>\n",
       "      <td>SALIH AL HASANI, Mohammed Hussein</td>\n",
       "      <td>SALIH AL HASANI, MOHAMMMED HUSSEIN</td>\n",
       "    </tr>\n",
       "    <tr>\n",
       "      <th>6</th>\n",
       "      <td>UID-230</td>\n",
       "      <td>Names where name parts are Modified</td>\n",
       "      <td>Repetitions</td>\n",
       "      <td>1 letters repeated once</td>\n",
       "      <td>Individual</td>\n",
       "      <td>UID-230 - 8390</td>\n",
       "      <td>31167</td>\n",
       "      <td>AFANASYEVA, Yulia Andreevna</td>\n",
       "      <td>AFANASYEVA, YULIAA ANDREEVNA</td>\n",
       "    </tr>\n",
       "    <tr>\n",
       "      <th>7</th>\n",
       "      <td>UID-230</td>\n",
       "      <td>Names where name parts are Modified</td>\n",
       "      <td>Repetitions</td>\n",
       "      <td>1 letters repeated once</td>\n",
       "      <td>Individual</td>\n",
       "      <td>UID-230 - 10650</td>\n",
       "      <td>37858</td>\n",
       "      <td>SERDYUKOVA, Natalya Anatolevna</td>\n",
       "      <td>SERDYUKOVA, NATALYAA ANATOLEVNA</td>\n",
       "    </tr>\n",
       "    <tr>\n",
       "      <th>8</th>\n",
       "      <td>UID-230</td>\n",
       "      <td>Names where name parts are Modified</td>\n",
       "      <td>Repetitions</td>\n",
       "      <td>1 letters repeated once</td>\n",
       "      <td>Individual</td>\n",
       "      <td>UID-230 - 6825</td>\n",
       "      <td>26391</td>\n",
       "      <td>SHIRINKAR, Mohammad Bagher</td>\n",
       "      <td>SHIRINKAR, MOHAMMAD BAGGHER</td>\n",
       "    </tr>\n",
       "    <tr>\n",
       "      <th>9</th>\n",
       "      <td>UID-230</td>\n",
       "      <td>Names where name parts are Modified</td>\n",
       "      <td>Repetitions</td>\n",
       "      <td>1 letters repeated once</td>\n",
       "      <td>Individual</td>\n",
       "      <td>UID-230 - 9178</td>\n",
       "      <td>34779</td>\n",
       "      <td>PANTUS, Dmitry Aleksandrovich</td>\n",
       "      <td>PANTUS, DMITRY ALEKSANDROOVICH</td>\n",
       "    </tr>\n",
       "  </tbody>\n",
       "</table>\n",
       "</div>"
      ],
      "text/plain": [
       "       UID                                Theme     Category  \\\n",
       "0  UID-230  Names where name parts are Modified  Repetitions   \n",
       "1  UID-230  Names where name parts are Modified  Repetitions   \n",
       "2  UID-230  Names where name parts are Modified  Repetitions   \n",
       "3  UID-230  Names where name parts are Modified  Repetitions   \n",
       "4  UID-230  Names where name parts are Modified  Repetitions   \n",
       "5  UID-230  Names where name parts are Modified  Repetitions   \n",
       "6  UID-230  Names where name parts are Modified  Repetitions   \n",
       "7  UID-230  Names where name parts are Modified  Repetitions   \n",
       "8  UID-230  Names where name parts are Modified  Repetitions   \n",
       "9  UID-230  Names where name parts are Modified  Repetitions   \n",
       "\n",
       "              Sub-category Entity-Type     Test Case ID OFAC List UID  \\\n",
       "0  1 letters repeated once  Individual   UID-230 - 2748         15022   \n",
       "1  1 letters repeated once  Individual   UID-230 - 2395         12595   \n",
       "2  1 letters repeated once  Individual   UID-230 - 6087         24753   \n",
       "3  1 letters repeated once  Individual   UID-230 - 7725         28930   \n",
       "4  1 letters repeated once  Individual  UID-230 - 10159         36855   \n",
       "5  1 letters repeated once  Individual   UID-230 - 7082         26862   \n",
       "6  1 letters repeated once  Individual   UID-230 - 8390         31167   \n",
       "7  1 letters repeated once  Individual  UID-230 - 10650         37858   \n",
       "8  1 letters repeated once  Individual   UID-230 - 6825         26391   \n",
       "9  1 letters repeated once  Individual   UID-230 - 9178         34779   \n",
       "\n",
       "                       Original Name                      Test Case Name  \n",
       "0    VAZQUEZ VILLAVICENCIO, Gabriela    VAZQUEZZ VILLAVICENCIO, GABRIELA  \n",
       "1       HAJI ABDUL QAYOUM, Eissa Jan       HAJI ABDUL QAYYOUM, EISSA JAN  \n",
       "2                        AJAKA, Tony                        AAJAKA, TONY  \n",
       "3              LEAL JIMENEZ, Joaquin              LEAL JIMENEZ, JOAQUINN  \n",
       "4     RYABUKHIN, Sergey Nikolayevich     RRYABUKHIN, SERGEY NIKOLAYEVICH  \n",
       "5  SALIH AL HASANI, Mohammed Hussein  SALIH AL HASANI, MOHAMMMED HUSSEIN  \n",
       "6        AFANASYEVA, Yulia Andreevna        AFANASYEVA, YULIAA ANDREEVNA  \n",
       "7     SERDYUKOVA, Natalya Anatolevna     SERDYUKOVA, NATALYAA ANATOLEVNA  \n",
       "8         SHIRINKAR, Mohammad Bagher         SHIRINKAR, MOHAMMAD BAGGHER  \n",
       "9      PANTUS, Dmitry Aleksandrovich      PANTUS, DMITRY ALEKSANDROOVICH  "
      ]
     },
     "execution_count": 8,
     "metadata": {},
     "output_type": "execute_result"
    }
   ],
   "source": [
    "for index, row in ofac_list_sampled.iterrows():\n",
    "    original_name = row['name'].upper()\n",
    "    original_name_list = list(original_name) # transfer name string into letter list\n",
    "    \n",
    "    final_test_name = original_name_list.copy()\n",
    "    \n",
    "    repeat_list = [] # get index of alphabets in each name\n",
    "    for i in range(len(original_name)):\n",
    "        if original_name[i] in alphabet():\n",
    "            repeat_list.append(i)\n",
    "    \n",
    "    random_index = np.random.choice(repeat_list) # randomly choose letter to be repeated\n",
    "    repeat_list.remove(random_index) # remove chosen letter\n",
    "\n",
    "    final_test_name[random_index] += original_name_list[random_index] # add repeated letter\n",
    "\n",
    "    final_test_name = ''.join(final_test_name)\n",
    "    \n",
    "    final_test_cases.loc[len(final_test_cases)] = [uid, theme, category, sub_category, entity_type, uid + ' - ' + str(index), row['uid'], row['name'], final_test_name] # append to the dataframe\n",
    "\n",
    "final_test_cases"
   ]
  }
 ],
 "metadata": {
  "kernelspec": {
   "display_name": "Python 3 (ipykernel)",
   "language": "python",
   "name": "python3"
  },
  "language_info": {
   "codemirror_mode": {
    "name": "ipython",
    "version": 3
   },
   "file_extension": ".py",
   "mimetype": "text/x-python",
   "name": "python",
   "nbconvert_exporter": "python",
   "pygments_lexer": "ipython3",
   "version": "3.8.8"
  }
 },
 "nbformat": 4,
 "nbformat_minor": 5
}
