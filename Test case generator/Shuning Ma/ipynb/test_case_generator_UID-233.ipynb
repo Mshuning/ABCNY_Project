{
 "cells": [
  {
   "cell_type": "markdown",
   "id": "e587297b",
   "metadata": {},
   "source": [
    "# IMPORT DATA, PACKAGES, AND FUNCTIONS"
   ]
  },
  {
   "cell_type": "markdown",
   "id": "2bf79a81",
   "metadata": {},
   "source": [
    "## import the relevant functions and packages"
   ]
  },
  {
   "cell_type": "code",
   "execution_count": 1,
   "id": "000435e8",
   "metadata": {},
   "outputs": [],
   "source": [
    "import pandas as pd\n",
    "import numpy as np\n",
    "from test_case_generator_functions import alphabet"
   ]
  },
  {
   "cell_type": "markdown",
   "id": "f63740d7",
   "metadata": {},
   "source": [
    "# TEST CASE TYPE REFERENCE INFORMATION"
   ]
  },
  {
   "cell_type": "code",
   "execution_count": 2,
   "id": "4b3f7972",
   "metadata": {},
   "outputs": [],
   "source": [
    "uid = 'UID-233' \n",
    "theme = 'Names where name parts are Modified'\n",
    "category = 'Repetitions'\n",
    "sub_category = '1 letters repeated twice'\n",
    "entity_type = 'Individual'"
   ]
  },
  {
   "cell_type": "markdown",
   "id": "8aeeb278",
   "metadata": {},
   "source": [
    "## download the OFAC list from the web"
   ]
  },
  {
   "cell_type": "code",
   "execution_count": 3,
   "id": "a27d14e3",
   "metadata": {},
   "outputs": [],
   "source": [
    "ofac_list_download = pd.read_csv('https://www.treasury.gov/ofac/downloads/sdn.csv', header=None)"
   ]
  },
  {
   "cell_type": "code",
   "execution_count": 4,
   "id": "e7436dad",
   "metadata": {},
   "outputs": [],
   "source": [
    "ofac_list = ofac_list_download[[0,1,2]]\n",
    "ofac_list.columns = ['uid', 'name', 'entity_type']"
   ]
  },
  {
   "cell_type": "markdown",
   "id": "401067db",
   "metadata": {},
   "source": [
    "# FILTER FOR THE REQUIREMENTS OF THE TEST CASE TYPE"
   ]
  },
  {
   "cell_type": "markdown",
   "id": "f486eee5",
   "metadata": {},
   "source": [
    "## filter for the requirements of the specific test case type"
   ]
  },
  {
   "cell_type": "code",
   "execution_count": 5,
   "id": "01588e99",
   "metadata": {},
   "outputs": [],
   "source": [
    "ofac_list_filtered = ofac_list[(ofac_list.entity_type == 'individual')] # only evaluate individuals"
   ]
  },
  {
   "cell_type": "markdown",
   "id": "d5b2e9b2",
   "metadata": {},
   "source": [
    "## randomly choose 10 rows"
   ]
  },
  {
   "cell_type": "code",
   "execution_count": 6,
   "id": "edc174eb",
   "metadata": {},
   "outputs": [
    {
     "data": {
      "text/html": [
       "<div>\n",
       "<style scoped>\n",
       "    .dataframe tbody tr th:only-of-type {\n",
       "        vertical-align: middle;\n",
       "    }\n",
       "\n",
       "    .dataframe tbody tr th {\n",
       "        vertical-align: top;\n",
       "    }\n",
       "\n",
       "    .dataframe thead th {\n",
       "        text-align: right;\n",
       "    }\n",
       "</style>\n",
       "<table border=\"1\" class=\"dataframe\">\n",
       "  <thead>\n",
       "    <tr style=\"text-align: right;\">\n",
       "      <th></th>\n",
       "      <th>uid</th>\n",
       "      <th>name</th>\n",
       "      <th>entity_type</th>\n",
       "    </tr>\n",
       "  </thead>\n",
       "  <tbody>\n",
       "    <tr>\n",
       "      <th>1730</th>\n",
       "      <td>11222</td>\n",
       "      <td>TSAI, Hsein Tai</td>\n",
       "      <td>individual</td>\n",
       "    </tr>\n",
       "    <tr>\n",
       "      <th>5151</th>\n",
       "      <td>22121</td>\n",
       "      <td>JIJAH, Jalal-al-Din 'Adil</td>\n",
       "      <td>individual</td>\n",
       "    </tr>\n",
       "    <tr>\n",
       "      <th>601</th>\n",
       "      <td>7829</td>\n",
       "      <td>AYARI, Chiheb Ben Mohamed</td>\n",
       "      <td>individual</td>\n",
       "    </tr>\n",
       "    <tr>\n",
       "      <th>9724</th>\n",
       "      <td>35707</td>\n",
       "      <td>POPOV, Yevgeny</td>\n",
       "      <td>individual</td>\n",
       "    </tr>\n",
       "    <tr>\n",
       "      <th>6839</th>\n",
       "      <td>26411</td>\n",
       "      <td>PAURA, Lucas Daniel</td>\n",
       "      <td>individual</td>\n",
       "    </tr>\n",
       "    <tr>\n",
       "      <th>7959</th>\n",
       "      <td>29828</td>\n",
       "      <td>MADHI, Shahriyar</td>\n",
       "      <td>individual</td>\n",
       "    </tr>\n",
       "    <tr>\n",
       "      <th>5460</th>\n",
       "      <td>23147</td>\n",
       "      <td>SEIF, Mahmoud</td>\n",
       "      <td>individual</td>\n",
       "    </tr>\n",
       "    <tr>\n",
       "      <th>7577</th>\n",
       "      <td>28349</td>\n",
       "      <td>RAZVOZHAEV, Mikhail Vladimirovich</td>\n",
       "      <td>individual</td>\n",
       "    </tr>\n",
       "    <tr>\n",
       "      <th>4631</th>\n",
       "      <td>20567</td>\n",
       "      <td>HONG, Jinhua</td>\n",
       "      <td>individual</td>\n",
       "    </tr>\n",
       "    <tr>\n",
       "      <th>7890</th>\n",
       "      <td>29642</td>\n",
       "      <td>KARAEU, Yuriy Khadzymuratavich</td>\n",
       "      <td>individual</td>\n",
       "    </tr>\n",
       "  </tbody>\n",
       "</table>\n",
       "</div>"
      ],
      "text/plain": [
       "        uid                               name entity_type\n",
       "1730  11222                    TSAI, Hsein Tai  individual\n",
       "5151  22121          JIJAH, Jalal-al-Din 'Adil  individual\n",
       "601    7829          AYARI, Chiheb Ben Mohamed  individual\n",
       "9724  35707                     POPOV, Yevgeny  individual\n",
       "6839  26411                PAURA, Lucas Daniel  individual\n",
       "7959  29828                   MADHI, Shahriyar  individual\n",
       "5460  23147                      SEIF, Mahmoud  individual\n",
       "7577  28349  RAZVOZHAEV, Mikhail Vladimirovich  individual\n",
       "4631  20567                       HONG, Jinhua  individual\n",
       "7890  29642     KARAEU, Yuriy Khadzymuratavich  individual"
      ]
     },
     "execution_count": 6,
     "metadata": {},
     "output_type": "execute_result"
    }
   ],
   "source": [
    "ofac_list_sampled = ofac_list_filtered.sample(n = 10)\n",
    "ofac_list_sampled"
   ]
  },
  {
   "cell_type": "markdown",
   "id": "58f19a68",
   "metadata": {},
   "source": [
    "# CREATE THE TEST CASES"
   ]
  },
  {
   "cell_type": "markdown",
   "id": "41205b68",
   "metadata": {},
   "source": [
    "## create blank final test cases table"
   ]
  },
  {
   "cell_type": "code",
   "execution_count": 7,
   "id": "c72219d5",
   "metadata": {},
   "outputs": [
    {
     "data": {
      "text/html": [
       "<div>\n",
       "<style scoped>\n",
       "    .dataframe tbody tr th:only-of-type {\n",
       "        vertical-align: middle;\n",
       "    }\n",
       "\n",
       "    .dataframe tbody tr th {\n",
       "        vertical-align: top;\n",
       "    }\n",
       "\n",
       "    .dataframe thead th {\n",
       "        text-align: right;\n",
       "    }\n",
       "</style>\n",
       "<table border=\"1\" class=\"dataframe\">\n",
       "  <thead>\n",
       "    <tr style=\"text-align: right;\">\n",
       "      <th></th>\n",
       "      <th>UID</th>\n",
       "      <th>Theme</th>\n",
       "      <th>Category</th>\n",
       "      <th>Sub-category</th>\n",
       "      <th>Entity-Type</th>\n",
       "      <th>Test Case ID</th>\n",
       "      <th>OFAC List UID</th>\n",
       "      <th>Original Name</th>\n",
       "      <th>Test Case Name</th>\n",
       "    </tr>\n",
       "  </thead>\n",
       "  <tbody>\n",
       "  </tbody>\n",
       "</table>\n",
       "</div>"
      ],
      "text/plain": [
       "Empty DataFrame\n",
       "Columns: [UID, Theme, Category, Sub-category, Entity-Type, Test Case ID, OFAC List UID, Original Name, Test Case Name]\n",
       "Index: []"
      ]
     },
     "execution_count": 7,
     "metadata": {},
     "output_type": "execute_result"
    }
   ],
   "source": [
    "final_test_cases = pd.DataFrame(columns=['UID', 'Theme','Category','Sub-category','Entity-Type','Test Case ID' , 'OFAC List UID', 'Original Name','Test Case Name'])\n",
    "final_test_cases"
   ]
  },
  {
   "cell_type": "markdown",
   "id": "e8949bbd",
   "metadata": {},
   "source": [
    "## run loop to generate the test cases"
   ]
  },
  {
   "cell_type": "code",
   "execution_count": 8,
   "id": "f18b6995",
   "metadata": {},
   "outputs": [
    {
     "data": {
      "text/html": [
       "<div>\n",
       "<style scoped>\n",
       "    .dataframe tbody tr th:only-of-type {\n",
       "        vertical-align: middle;\n",
       "    }\n",
       "\n",
       "    .dataframe tbody tr th {\n",
       "        vertical-align: top;\n",
       "    }\n",
       "\n",
       "    .dataframe thead th {\n",
       "        text-align: right;\n",
       "    }\n",
       "</style>\n",
       "<table border=\"1\" class=\"dataframe\">\n",
       "  <thead>\n",
       "    <tr style=\"text-align: right;\">\n",
       "      <th></th>\n",
       "      <th>UID</th>\n",
       "      <th>Theme</th>\n",
       "      <th>Category</th>\n",
       "      <th>Sub-category</th>\n",
       "      <th>Entity-Type</th>\n",
       "      <th>Test Case ID</th>\n",
       "      <th>OFAC List UID</th>\n",
       "      <th>Original Name</th>\n",
       "      <th>Test Case Name</th>\n",
       "    </tr>\n",
       "  </thead>\n",
       "  <tbody>\n",
       "    <tr>\n",
       "      <th>0</th>\n",
       "      <td>UID-233</td>\n",
       "      <td>Names where name parts are Modified</td>\n",
       "      <td>Repetitions</td>\n",
       "      <td>1 letters repeated twice</td>\n",
       "      <td>Individual</td>\n",
       "      <td>UID-233 - 1730</td>\n",
       "      <td>11222</td>\n",
       "      <td>TSAI, Hsein Tai</td>\n",
       "      <td>TSAI, HSEEEIN TAI</td>\n",
       "    </tr>\n",
       "    <tr>\n",
       "      <th>1</th>\n",
       "      <td>UID-233</td>\n",
       "      <td>Names where name parts are Modified</td>\n",
       "      <td>Repetitions</td>\n",
       "      <td>1 letters repeated twice</td>\n",
       "      <td>Individual</td>\n",
       "      <td>UID-233 - 5151</td>\n",
       "      <td>22121</td>\n",
       "      <td>JIJAH, Jalal-al-Din 'Adil</td>\n",
       "      <td>JIJAH, JALAL-AL-DIN 'AAADIL</td>\n",
       "    </tr>\n",
       "    <tr>\n",
       "      <th>2</th>\n",
       "      <td>UID-233</td>\n",
       "      <td>Names where name parts are Modified</td>\n",
       "      <td>Repetitions</td>\n",
       "      <td>1 letters repeated twice</td>\n",
       "      <td>Individual</td>\n",
       "      <td>UID-233 - 601</td>\n",
       "      <td>7829</td>\n",
       "      <td>AYARI, Chiheb Ben Mohamed</td>\n",
       "      <td>AYARI, CCCHIHEB BEN MOHAMED</td>\n",
       "    </tr>\n",
       "    <tr>\n",
       "      <th>3</th>\n",
       "      <td>UID-233</td>\n",
       "      <td>Names where name parts are Modified</td>\n",
       "      <td>Repetitions</td>\n",
       "      <td>1 letters repeated twice</td>\n",
       "      <td>Individual</td>\n",
       "      <td>UID-233 - 9724</td>\n",
       "      <td>35707</td>\n",
       "      <td>POPOV, Yevgeny</td>\n",
       "      <td>POPOV, YEVGENNNY</td>\n",
       "    </tr>\n",
       "    <tr>\n",
       "      <th>4</th>\n",
       "      <td>UID-233</td>\n",
       "      <td>Names where name parts are Modified</td>\n",
       "      <td>Repetitions</td>\n",
       "      <td>1 letters repeated twice</td>\n",
       "      <td>Individual</td>\n",
       "      <td>UID-233 - 6839</td>\n",
       "      <td>26411</td>\n",
       "      <td>PAURA, Lucas Daniel</td>\n",
       "      <td>PAURA, LUCAS DDDANIEL</td>\n",
       "    </tr>\n",
       "    <tr>\n",
       "      <th>5</th>\n",
       "      <td>UID-233</td>\n",
       "      <td>Names where name parts are Modified</td>\n",
       "      <td>Repetitions</td>\n",
       "      <td>1 letters repeated twice</td>\n",
       "      <td>Individual</td>\n",
       "      <td>UID-233 - 7959</td>\n",
       "      <td>29828</td>\n",
       "      <td>MADHI, Shahriyar</td>\n",
       "      <td>MAAADHI, SHAHRIYAR</td>\n",
       "    </tr>\n",
       "    <tr>\n",
       "      <th>6</th>\n",
       "      <td>UID-233</td>\n",
       "      <td>Names where name parts are Modified</td>\n",
       "      <td>Repetitions</td>\n",
       "      <td>1 letters repeated twice</td>\n",
       "      <td>Individual</td>\n",
       "      <td>UID-233 - 5460</td>\n",
       "      <td>23147</td>\n",
       "      <td>SEIF, Mahmoud</td>\n",
       "      <td>SEIF, MAAAHMOUD</td>\n",
       "    </tr>\n",
       "    <tr>\n",
       "      <th>7</th>\n",
       "      <td>UID-233</td>\n",
       "      <td>Names where name parts are Modified</td>\n",
       "      <td>Repetitions</td>\n",
       "      <td>1 letters repeated twice</td>\n",
       "      <td>Individual</td>\n",
       "      <td>UID-233 - 7577</td>\n",
       "      <td>28349</td>\n",
       "      <td>RAZVOZHAEV, Mikhail Vladimirovich</td>\n",
       "      <td>RAZVOZHAEV, MIKHAIIIL VLADIMIROVICH</td>\n",
       "    </tr>\n",
       "    <tr>\n",
       "      <th>8</th>\n",
       "      <td>UID-233</td>\n",
       "      <td>Names where name parts are Modified</td>\n",
       "      <td>Repetitions</td>\n",
       "      <td>1 letters repeated twice</td>\n",
       "      <td>Individual</td>\n",
       "      <td>UID-233 - 4631</td>\n",
       "      <td>20567</td>\n",
       "      <td>HONG, Jinhua</td>\n",
       "      <td>HONG, JJJINHUA</td>\n",
       "    </tr>\n",
       "    <tr>\n",
       "      <th>9</th>\n",
       "      <td>UID-233</td>\n",
       "      <td>Names where name parts are Modified</td>\n",
       "      <td>Repetitions</td>\n",
       "      <td>1 letters repeated twice</td>\n",
       "      <td>Individual</td>\n",
       "      <td>UID-233 - 7890</td>\n",
       "      <td>29642</td>\n",
       "      <td>KARAEU, Yuriy Khadzymuratavich</td>\n",
       "      <td>KARAEU, YURIY KHADZYMURATAAAVICH</td>\n",
       "    </tr>\n",
       "  </tbody>\n",
       "</table>\n",
       "</div>"
      ],
      "text/plain": [
       "       UID                                Theme     Category  \\\n",
       "0  UID-233  Names where name parts are Modified  Repetitions   \n",
       "1  UID-233  Names where name parts are Modified  Repetitions   \n",
       "2  UID-233  Names where name parts are Modified  Repetitions   \n",
       "3  UID-233  Names where name parts are Modified  Repetitions   \n",
       "4  UID-233  Names where name parts are Modified  Repetitions   \n",
       "5  UID-233  Names where name parts are Modified  Repetitions   \n",
       "6  UID-233  Names where name parts are Modified  Repetitions   \n",
       "7  UID-233  Names where name parts are Modified  Repetitions   \n",
       "8  UID-233  Names where name parts are Modified  Repetitions   \n",
       "9  UID-233  Names where name parts are Modified  Repetitions   \n",
       "\n",
       "               Sub-category Entity-Type    Test Case ID OFAC List UID  \\\n",
       "0  1 letters repeated twice  Individual  UID-233 - 1730         11222   \n",
       "1  1 letters repeated twice  Individual  UID-233 - 5151         22121   \n",
       "2  1 letters repeated twice  Individual   UID-233 - 601          7829   \n",
       "3  1 letters repeated twice  Individual  UID-233 - 9724         35707   \n",
       "4  1 letters repeated twice  Individual  UID-233 - 6839         26411   \n",
       "5  1 letters repeated twice  Individual  UID-233 - 7959         29828   \n",
       "6  1 letters repeated twice  Individual  UID-233 - 5460         23147   \n",
       "7  1 letters repeated twice  Individual  UID-233 - 7577         28349   \n",
       "8  1 letters repeated twice  Individual  UID-233 - 4631         20567   \n",
       "9  1 letters repeated twice  Individual  UID-233 - 7890         29642   \n",
       "\n",
       "                       Original Name                       Test Case Name  \n",
       "0                    TSAI, Hsein Tai                    TSAI, HSEEEIN TAI  \n",
       "1          JIJAH, Jalal-al-Din 'Adil          JIJAH, JALAL-AL-DIN 'AAADIL  \n",
       "2          AYARI, Chiheb Ben Mohamed          AYARI, CCCHIHEB BEN MOHAMED  \n",
       "3                     POPOV, Yevgeny                     POPOV, YEVGENNNY  \n",
       "4                PAURA, Lucas Daniel                PAURA, LUCAS DDDANIEL  \n",
       "5                   MADHI, Shahriyar                   MAAADHI, SHAHRIYAR  \n",
       "6                      SEIF, Mahmoud                      SEIF, MAAAHMOUD  \n",
       "7  RAZVOZHAEV, Mikhail Vladimirovich  RAZVOZHAEV, MIKHAIIIL VLADIMIROVICH  \n",
       "8                       HONG, Jinhua                       HONG, JJJINHUA  \n",
       "9     KARAEU, Yuriy Khadzymuratavich     KARAEU, YURIY KHADZYMURATAAAVICH  "
      ]
     },
     "execution_count": 8,
     "metadata": {},
     "output_type": "execute_result"
    }
   ],
   "source": [
    "for index, row in ofac_list_sampled.iterrows():\n",
    "    original_name = row['name'].upper()\n",
    "    original_name_list = list(original_name) # transfer name string into letter list\n",
    "    \n",
    "    final_test_name = original_name_list.copy()\n",
    "    \n",
    "    repeat_list = [] # get index of alphabets in each name\n",
    "    for i in range(len(original_name)):\n",
    "        if original_name[i] in alphabet():\n",
    "            repeat_list.append(i)\n",
    "    \n",
    "    random_index = np.random.choice(repeat_list) # randomly choose letter to be repeated\n",
    "    repeat_list.remove(random_index) # remove chosen letter\n",
    "\n",
    "    final_test_name[random_index] += original_name_list[random_index] + original_name_list[random_index] # add repeated letter twice\n",
    "\n",
    "    final_test_name = ''.join(final_test_name)\n",
    "    \n",
    "    final_test_cases.loc[len(final_test_cases)] = [uid, theme, category, sub_category, entity_type, uid + ' - ' + str(index), row['uid'], row['name'], final_test_name] # append to the dataframe\n",
    "\n",
    "final_test_cases"
   ]
  }
 ],
 "metadata": {
  "kernelspec": {
   "display_name": "Python 3 (ipykernel)",
   "language": "python",
   "name": "python3"
  },
  "language_info": {
   "codemirror_mode": {
    "name": "ipython",
    "version": 3
   },
   "file_extension": ".py",
   "mimetype": "text/x-python",
   "name": "python",
   "nbconvert_exporter": "python",
   "pygments_lexer": "ipython3",
   "version": "3.8.8"
  }
 },
 "nbformat": 4,
 "nbformat_minor": 5
}
