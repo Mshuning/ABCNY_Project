{
 "cells": [
  {
   "cell_type": "markdown",
   "id": "e587297b",
   "metadata": {},
   "source": [
    "# IMPORT DATA, PACKAGES, AND FUNCTIONS"
   ]
  },
  {
   "cell_type": "markdown",
   "id": "2bf79a81",
   "metadata": {},
   "source": [
    "## import the relevant functions and packages"
   ]
  },
  {
   "cell_type": "code",
   "execution_count": 1,
   "id": "000435e8",
   "metadata": {},
   "outputs": [],
   "source": [
    "import pandas as pd\n",
    "import numpy as np\n",
    "from test_case_generator_functions import alphabet"
   ]
  },
  {
   "cell_type": "markdown",
   "id": "f63740d7",
   "metadata": {},
   "source": [
    "# TEST CASE TYPE REFERENCE INFORMATION"
   ]
  },
  {
   "cell_type": "code",
   "execution_count": 2,
   "id": "4b3f7972",
   "metadata": {},
   "outputs": [],
   "source": [
    "uid = 'UID-283' \n",
    "theme = 'Names where name parts are Modified'\n",
    "category = 'Truncation'\n",
    "sub_category = '2 Letter Truncation in the end'\n",
    "entity_type = 'Individual'"
   ]
  },
  {
   "cell_type": "markdown",
   "id": "8aeeb278",
   "metadata": {},
   "source": [
    "## download the OFAC list from the web"
   ]
  },
  {
   "cell_type": "code",
   "execution_count": 3,
   "id": "a27d14e3",
   "metadata": {},
   "outputs": [],
   "source": [
    "ofac_list_download = pd.read_csv('https://www.treasury.gov/ofac/downloads/sdn.csv', header=None)"
   ]
  },
  {
   "cell_type": "code",
   "execution_count": 4,
   "id": "e7436dad",
   "metadata": {},
   "outputs": [],
   "source": [
    "ofac_list = ofac_list_download[[0,1,2]]\n",
    "ofac_list.columns = ['uid', 'name', 'entity_type']"
   ]
  },
  {
   "cell_type": "markdown",
   "id": "401067db",
   "metadata": {},
   "source": [
    "# FILTER FOR THE REQUIREMENTS OF THE TEST CASE TYPE"
   ]
  },
  {
   "cell_type": "markdown",
   "id": "f486eee5",
   "metadata": {},
   "source": [
    "## filter for the requirements of the specific test case type"
   ]
  },
  {
   "cell_type": "code",
   "execution_count": 5,
   "id": "01588e99",
   "metadata": {},
   "outputs": [],
   "source": [
    "ofac_list_filtered = ofac_list[(ofac_list.entity_type == 'individual')] # only evaluate individuals"
   ]
  },
  {
   "cell_type": "markdown",
   "id": "d5b2e9b2",
   "metadata": {},
   "source": [
    "## randomly choose 10 rows"
   ]
  },
  {
   "cell_type": "code",
   "execution_count": 6,
   "id": "edc174eb",
   "metadata": {},
   "outputs": [
    {
     "data": {
      "text/html": [
       "<div>\n",
       "<style scoped>\n",
       "    .dataframe tbody tr th:only-of-type {\n",
       "        vertical-align: middle;\n",
       "    }\n",
       "\n",
       "    .dataframe tbody tr th {\n",
       "        vertical-align: top;\n",
       "    }\n",
       "\n",
       "    .dataframe thead th {\n",
       "        text-align: right;\n",
       "    }\n",
       "</style>\n",
       "<table border=\"1\" class=\"dataframe\">\n",
       "  <thead>\n",
       "    <tr style=\"text-align: right;\">\n",
       "      <th></th>\n",
       "      <th>uid</th>\n",
       "      <th>name</th>\n",
       "      <th>entity_type</th>\n",
       "    </tr>\n",
       "  </thead>\n",
       "  <tbody>\n",
       "    <tr>\n",
       "      <th>4246</th>\n",
       "      <td>18990</td>\n",
       "      <td>NICOLAOU, Nicos</td>\n",
       "      <td>individual</td>\n",
       "    </tr>\n",
       "    <tr>\n",
       "      <th>4936</th>\n",
       "      <td>21906</td>\n",
       "      <td>SAFTALI, Ghassan</td>\n",
       "      <td>individual</td>\n",
       "    </tr>\n",
       "    <tr>\n",
       "      <th>7893</th>\n",
       "      <td>29664</td>\n",
       "      <td>BALABA, Dzmitriy Uladzimiravich</td>\n",
       "      <td>individual</td>\n",
       "    </tr>\n",
       "    <tr>\n",
       "      <th>9633</th>\n",
       "      <td>35616</td>\n",
       "      <td>YEZUBOV, Alexey Petrovich</td>\n",
       "      <td>individual</td>\n",
       "    </tr>\n",
       "    <tr>\n",
       "      <th>1223</th>\n",
       "      <td>9613</td>\n",
       "      <td>BADRI, Gabril Abdul Kareem</td>\n",
       "      <td>individual</td>\n",
       "    </tr>\n",
       "    <tr>\n",
       "      <th>9610</th>\n",
       "      <td>35593</td>\n",
       "      <td>GETTA, Anton Aleksandrovich</td>\n",
       "      <td>individual</td>\n",
       "    </tr>\n",
       "    <tr>\n",
       "      <th>7914</th>\n",
       "      <td>29745</td>\n",
       "      <td>ASLANOVA, Darya Dmitriyevna</td>\n",
       "      <td>individual</td>\n",
       "    </tr>\n",
       "    <tr>\n",
       "      <th>10147</th>\n",
       "      <td>36843</td>\n",
       "      <td>ORDENOV, Gennady Ivanovich</td>\n",
       "      <td>individual</td>\n",
       "    </tr>\n",
       "    <tr>\n",
       "      <th>3548</th>\n",
       "      <td>16708</td>\n",
       "      <td>BABAKOV, Alexander Mikhailovich</td>\n",
       "      <td>individual</td>\n",
       "    </tr>\n",
       "    <tr>\n",
       "      <th>7878</th>\n",
       "      <td>29544</td>\n",
       "      <td>AMIN, Alireza</td>\n",
       "      <td>individual</td>\n",
       "    </tr>\n",
       "  </tbody>\n",
       "</table>\n",
       "</div>"
      ],
      "text/plain": [
       "         uid                             name entity_type\n",
       "4246   18990                  NICOLAOU, Nicos  individual\n",
       "4936   21906                 SAFTALI, Ghassan  individual\n",
       "7893   29664  BALABA, Dzmitriy Uladzimiravich  individual\n",
       "9633   35616        YEZUBOV, Alexey Petrovich  individual\n",
       "1223    9613       BADRI, Gabril Abdul Kareem  individual\n",
       "9610   35593      GETTA, Anton Aleksandrovich  individual\n",
       "7914   29745      ASLANOVA, Darya Dmitriyevna  individual\n",
       "10147  36843       ORDENOV, Gennady Ivanovich  individual\n",
       "3548   16708  BABAKOV, Alexander Mikhailovich  individual\n",
       "7878   29544                    AMIN, Alireza  individual"
      ]
     },
     "execution_count": 6,
     "metadata": {},
     "output_type": "execute_result"
    }
   ],
   "source": [
    "while True:\n",
    "    ofac_list_sampled = ofac_list_filtered.sample(n = 10)\n",
    "    cnt = [0] * 10\n",
    "    for ind, name in enumerate(ofac_list_sampled['name']):\n",
    "        split_name = name.upper().split(' ')\n",
    "        \n",
    "        if all(i in alphabet() for i in list(split_name[-1][-2:])) & (len(split_name[-1]) > 2) & (len(' '.join(split_name)) > 10):\n",
    "            cnt[ind] += 1\n",
    "\n",
    "    if all(i == 1 for i in cnt):\n",
    "        break\n",
    "\n",
    "ofac_list_sampled"
   ]
  },
  {
   "cell_type": "markdown",
   "id": "58f19a68",
   "metadata": {},
   "source": [
    "# CREATE THE TEST CASES"
   ]
  },
  {
   "cell_type": "markdown",
   "id": "41205b68",
   "metadata": {},
   "source": [
    "## create blank final test cases table"
   ]
  },
  {
   "cell_type": "code",
   "execution_count": 7,
   "id": "c72219d5",
   "metadata": {},
   "outputs": [
    {
     "data": {
      "text/html": [
       "<div>\n",
       "<style scoped>\n",
       "    .dataframe tbody tr th:only-of-type {\n",
       "        vertical-align: middle;\n",
       "    }\n",
       "\n",
       "    .dataframe tbody tr th {\n",
       "        vertical-align: top;\n",
       "    }\n",
       "\n",
       "    .dataframe thead th {\n",
       "        text-align: right;\n",
       "    }\n",
       "</style>\n",
       "<table border=\"1\" class=\"dataframe\">\n",
       "  <thead>\n",
       "    <tr style=\"text-align: right;\">\n",
       "      <th></th>\n",
       "      <th>UID</th>\n",
       "      <th>Theme</th>\n",
       "      <th>Category</th>\n",
       "      <th>Sub-category</th>\n",
       "      <th>Entity-Type</th>\n",
       "      <th>Test Case ID</th>\n",
       "      <th>OFAC List UID</th>\n",
       "      <th>Original Name</th>\n",
       "      <th>Test Case Name</th>\n",
       "    </tr>\n",
       "  </thead>\n",
       "  <tbody>\n",
       "  </tbody>\n",
       "</table>\n",
       "</div>"
      ],
      "text/plain": [
       "Empty DataFrame\n",
       "Columns: [UID, Theme, Category, Sub-category, Entity-Type, Test Case ID, OFAC List UID, Original Name, Test Case Name]\n",
       "Index: []"
      ]
     },
     "execution_count": 7,
     "metadata": {},
     "output_type": "execute_result"
    }
   ],
   "source": [
    "final_test_cases = pd.DataFrame(columns=['UID', 'Theme','Category','Sub-category','Entity-Type','Test Case ID' , 'OFAC List UID', 'Original Name','Test Case Name'])\n",
    "final_test_cases"
   ]
  },
  {
   "cell_type": "markdown",
   "id": "e8949bbd",
   "metadata": {},
   "source": [
    "## run loop to generate the test cases"
   ]
  },
  {
   "cell_type": "code",
   "execution_count": 8,
   "id": "f18b6995",
   "metadata": {},
   "outputs": [
    {
     "data": {
      "text/html": [
       "<div>\n",
       "<style scoped>\n",
       "    .dataframe tbody tr th:only-of-type {\n",
       "        vertical-align: middle;\n",
       "    }\n",
       "\n",
       "    .dataframe tbody tr th {\n",
       "        vertical-align: top;\n",
       "    }\n",
       "\n",
       "    .dataframe thead th {\n",
       "        text-align: right;\n",
       "    }\n",
       "</style>\n",
       "<table border=\"1\" class=\"dataframe\">\n",
       "  <thead>\n",
       "    <tr style=\"text-align: right;\">\n",
       "      <th></th>\n",
       "      <th>UID</th>\n",
       "      <th>Theme</th>\n",
       "      <th>Category</th>\n",
       "      <th>Sub-category</th>\n",
       "      <th>Entity-Type</th>\n",
       "      <th>Test Case ID</th>\n",
       "      <th>OFAC List UID</th>\n",
       "      <th>Original Name</th>\n",
       "      <th>Test Case Name</th>\n",
       "    </tr>\n",
       "  </thead>\n",
       "  <tbody>\n",
       "    <tr>\n",
       "      <th>0</th>\n",
       "      <td>UID-283</td>\n",
       "      <td>Names where name parts are Modified</td>\n",
       "      <td>Truncation</td>\n",
       "      <td>2 Letter Truncation in the end</td>\n",
       "      <td>Individual</td>\n",
       "      <td>UID-283 - 4246</td>\n",
       "      <td>18990</td>\n",
       "      <td>NICOLAOU, Nicos</td>\n",
       "      <td>NICOLAOU, NIC</td>\n",
       "    </tr>\n",
       "    <tr>\n",
       "      <th>1</th>\n",
       "      <td>UID-283</td>\n",
       "      <td>Names where name parts are Modified</td>\n",
       "      <td>Truncation</td>\n",
       "      <td>2 Letter Truncation in the end</td>\n",
       "      <td>Individual</td>\n",
       "      <td>UID-283 - 4936</td>\n",
       "      <td>21906</td>\n",
       "      <td>SAFTALI, Ghassan</td>\n",
       "      <td>SAFTALI, GHASS</td>\n",
       "    </tr>\n",
       "    <tr>\n",
       "      <th>2</th>\n",
       "      <td>UID-283</td>\n",
       "      <td>Names where name parts are Modified</td>\n",
       "      <td>Truncation</td>\n",
       "      <td>2 Letter Truncation in the end</td>\n",
       "      <td>Individual</td>\n",
       "      <td>UID-283 - 7893</td>\n",
       "      <td>29664</td>\n",
       "      <td>BALABA, Dzmitriy Uladzimiravich</td>\n",
       "      <td>BALABA, DZMITRIY ULADZIMIRAVI</td>\n",
       "    </tr>\n",
       "    <tr>\n",
       "      <th>3</th>\n",
       "      <td>UID-283</td>\n",
       "      <td>Names where name parts are Modified</td>\n",
       "      <td>Truncation</td>\n",
       "      <td>2 Letter Truncation in the end</td>\n",
       "      <td>Individual</td>\n",
       "      <td>UID-283 - 9633</td>\n",
       "      <td>35616</td>\n",
       "      <td>YEZUBOV, Alexey Petrovich</td>\n",
       "      <td>YEZUBOV, ALEXEY PETROVI</td>\n",
       "    </tr>\n",
       "    <tr>\n",
       "      <th>4</th>\n",
       "      <td>UID-283</td>\n",
       "      <td>Names where name parts are Modified</td>\n",
       "      <td>Truncation</td>\n",
       "      <td>2 Letter Truncation in the end</td>\n",
       "      <td>Individual</td>\n",
       "      <td>UID-283 - 1223</td>\n",
       "      <td>9613</td>\n",
       "      <td>BADRI, Gabril Abdul Kareem</td>\n",
       "      <td>BADRI, GABRIL ABDUL KARE</td>\n",
       "    </tr>\n",
       "    <tr>\n",
       "      <th>5</th>\n",
       "      <td>UID-283</td>\n",
       "      <td>Names where name parts are Modified</td>\n",
       "      <td>Truncation</td>\n",
       "      <td>2 Letter Truncation in the end</td>\n",
       "      <td>Individual</td>\n",
       "      <td>UID-283 - 9610</td>\n",
       "      <td>35593</td>\n",
       "      <td>GETTA, Anton Aleksandrovich</td>\n",
       "      <td>GETTA, ANTON ALEKSANDROVI</td>\n",
       "    </tr>\n",
       "    <tr>\n",
       "      <th>6</th>\n",
       "      <td>UID-283</td>\n",
       "      <td>Names where name parts are Modified</td>\n",
       "      <td>Truncation</td>\n",
       "      <td>2 Letter Truncation in the end</td>\n",
       "      <td>Individual</td>\n",
       "      <td>UID-283 - 7914</td>\n",
       "      <td>29745</td>\n",
       "      <td>ASLANOVA, Darya Dmitriyevna</td>\n",
       "      <td>ASLANOVA, DARYA DMITRIYEV</td>\n",
       "    </tr>\n",
       "    <tr>\n",
       "      <th>7</th>\n",
       "      <td>UID-283</td>\n",
       "      <td>Names where name parts are Modified</td>\n",
       "      <td>Truncation</td>\n",
       "      <td>2 Letter Truncation in the end</td>\n",
       "      <td>Individual</td>\n",
       "      <td>UID-283 - 10147</td>\n",
       "      <td>36843</td>\n",
       "      <td>ORDENOV, Gennady Ivanovich</td>\n",
       "      <td>ORDENOV, GENNADY IVANOVI</td>\n",
       "    </tr>\n",
       "    <tr>\n",
       "      <th>8</th>\n",
       "      <td>UID-283</td>\n",
       "      <td>Names where name parts are Modified</td>\n",
       "      <td>Truncation</td>\n",
       "      <td>2 Letter Truncation in the end</td>\n",
       "      <td>Individual</td>\n",
       "      <td>UID-283 - 3548</td>\n",
       "      <td>16708</td>\n",
       "      <td>BABAKOV, Alexander Mikhailovich</td>\n",
       "      <td>BABAKOV, ALEXANDER MIKHAILOVI</td>\n",
       "    </tr>\n",
       "    <tr>\n",
       "      <th>9</th>\n",
       "      <td>UID-283</td>\n",
       "      <td>Names where name parts are Modified</td>\n",
       "      <td>Truncation</td>\n",
       "      <td>2 Letter Truncation in the end</td>\n",
       "      <td>Individual</td>\n",
       "      <td>UID-283 - 7878</td>\n",
       "      <td>29544</td>\n",
       "      <td>AMIN, Alireza</td>\n",
       "      <td>AMIN, ALIRE</td>\n",
       "    </tr>\n",
       "  </tbody>\n",
       "</table>\n",
       "</div>"
      ],
      "text/plain": [
       "       UID                                Theme    Category  \\\n",
       "0  UID-283  Names where name parts are Modified  Truncation   \n",
       "1  UID-283  Names where name parts are Modified  Truncation   \n",
       "2  UID-283  Names where name parts are Modified  Truncation   \n",
       "3  UID-283  Names where name parts are Modified  Truncation   \n",
       "4  UID-283  Names where name parts are Modified  Truncation   \n",
       "5  UID-283  Names where name parts are Modified  Truncation   \n",
       "6  UID-283  Names where name parts are Modified  Truncation   \n",
       "7  UID-283  Names where name parts are Modified  Truncation   \n",
       "8  UID-283  Names where name parts are Modified  Truncation   \n",
       "9  UID-283  Names where name parts are Modified  Truncation   \n",
       "\n",
       "                     Sub-category Entity-Type     Test Case ID OFAC List UID  \\\n",
       "0  2 Letter Truncation in the end  Individual   UID-283 - 4246         18990   \n",
       "1  2 Letter Truncation in the end  Individual   UID-283 - 4936         21906   \n",
       "2  2 Letter Truncation in the end  Individual   UID-283 - 7893         29664   \n",
       "3  2 Letter Truncation in the end  Individual   UID-283 - 9633         35616   \n",
       "4  2 Letter Truncation in the end  Individual   UID-283 - 1223          9613   \n",
       "5  2 Letter Truncation in the end  Individual   UID-283 - 9610         35593   \n",
       "6  2 Letter Truncation in the end  Individual   UID-283 - 7914         29745   \n",
       "7  2 Letter Truncation in the end  Individual  UID-283 - 10147         36843   \n",
       "8  2 Letter Truncation in the end  Individual   UID-283 - 3548         16708   \n",
       "9  2 Letter Truncation in the end  Individual   UID-283 - 7878         29544   \n",
       "\n",
       "                     Original Name                 Test Case Name  \n",
       "0                  NICOLAOU, Nicos                  NICOLAOU, NIC  \n",
       "1                 SAFTALI, Ghassan                 SAFTALI, GHASS  \n",
       "2  BALABA, Dzmitriy Uladzimiravich  BALABA, DZMITRIY ULADZIMIRAVI  \n",
       "3        YEZUBOV, Alexey Petrovich        YEZUBOV, ALEXEY PETROVI  \n",
       "4       BADRI, Gabril Abdul Kareem       BADRI, GABRIL ABDUL KARE  \n",
       "5      GETTA, Anton Aleksandrovich      GETTA, ANTON ALEKSANDROVI  \n",
       "6      ASLANOVA, Darya Dmitriyevna      ASLANOVA, DARYA DMITRIYEV  \n",
       "7       ORDENOV, Gennady Ivanovich       ORDENOV, GENNADY IVANOVI  \n",
       "8  BABAKOV, Alexander Mikhailovich  BABAKOV, ALEXANDER MIKHAILOVI  \n",
       "9                    AMIN, Alireza                    AMIN, ALIRE  "
      ]
     },
     "execution_count": 8,
     "metadata": {},
     "output_type": "execute_result"
    }
   ],
   "source": [
    "for index, row in ofac_list_sampled.iterrows():\n",
    "    original_name = row['name'].upper()\n",
    "    split_original_name = original_name.split(' ') # split name into word\n",
    "    final_test_name = split_original_name.copy()\n",
    "    \n",
    "    truncate_word = split_original_name[-1] # choose word to be truncated\n",
    "        \n",
    "    final_test_name[final_test_name.index(truncate_word)] = truncate_word[:-2]\n",
    "\n",
    "    final_test_name = ' '.join(final_test_name)\n",
    "    \n",
    "    final_test_cases.loc[len(final_test_cases)] = [uid, theme, category, sub_category, entity_type, uid + ' - ' + str(index), row['uid'], row['name'], final_test_name] # append to the dataframe\n",
    "\n",
    "final_test_cases"
   ]
  }
 ],
 "metadata": {
  "kernelspec": {
   "display_name": "Python 3 (ipykernel)",
   "language": "python",
   "name": "python3"
  },
  "language_info": {
   "codemirror_mode": {
    "name": "ipython",
    "version": 3
   },
   "file_extension": ".py",
   "mimetype": "text/x-python",
   "name": "python",
   "nbconvert_exporter": "python",
   "pygments_lexer": "ipython3",
   "version": "3.8.8"
  }
 },
 "nbformat": 4,
 "nbformat_minor": 5
}
