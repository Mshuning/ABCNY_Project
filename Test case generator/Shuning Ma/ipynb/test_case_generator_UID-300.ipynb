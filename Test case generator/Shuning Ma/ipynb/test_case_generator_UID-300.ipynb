{
 "cells": [
  {
   "cell_type": "markdown",
   "id": "e587297b",
   "metadata": {},
   "source": [
    "# IMPORT DATA, PACKAGES, AND FUNCTIONS"
   ]
  },
  {
   "cell_type": "markdown",
   "id": "2bf79a81",
   "metadata": {},
   "source": [
    "## import the relevant functions and packages"
   ]
  },
  {
   "cell_type": "code",
   "execution_count": 1,
   "id": "000435e8",
   "metadata": {},
   "outputs": [],
   "source": [
    "import pandas as pd\n",
    "import numpy as np\n",
    "from test_case_generator_functions import alphabet, rand_letter"
   ]
  },
  {
   "cell_type": "markdown",
   "id": "f63740d7",
   "metadata": {},
   "source": [
    "# TEST CASE TYPE REFERENCE INFORMATION"
   ]
  },
  {
   "cell_type": "code",
   "execution_count": 2,
   "id": "4b3f7972",
   "metadata": {},
   "outputs": [],
   "source": [
    "uid = 'UID-300' \n",
    "theme = 'Names where name parts are Modified'\n",
    "category = 'Typos'\n",
    "sub_category = '1 Typo - any letter'\n",
    "entity_type = 'Individual'"
   ]
  },
  {
   "cell_type": "markdown",
   "id": "8aeeb278",
   "metadata": {},
   "source": [
    "## download the OFAC list from the web"
   ]
  },
  {
   "cell_type": "code",
   "execution_count": 3,
   "id": "a27d14e3",
   "metadata": {},
   "outputs": [],
   "source": [
    "ofac_list_download = pd.read_csv('https://www.treasury.gov/ofac/downloads/sdn.csv', header=None)"
   ]
  },
  {
   "cell_type": "code",
   "execution_count": 4,
   "id": "e7436dad",
   "metadata": {},
   "outputs": [],
   "source": [
    "ofac_list = ofac_list_download[[0,1,2]]\n",
    "ofac_list.columns = ['uid', 'name', 'entity_type']"
   ]
  },
  {
   "cell_type": "markdown",
   "id": "401067db",
   "metadata": {},
   "source": [
    "# FILTER FOR THE REQUIREMENTS OF THE TEST CASE TYPE"
   ]
  },
  {
   "cell_type": "markdown",
   "id": "f486eee5",
   "metadata": {},
   "source": [
    "## filter for the requirements of the specific test case type"
   ]
  },
  {
   "cell_type": "code",
   "execution_count": 5,
   "id": "01588e99",
   "metadata": {},
   "outputs": [],
   "source": [
    "ofac_list_filtered = ofac_list[(ofac_list.entity_type == 'individual')] # only evaluate individuals"
   ]
  },
  {
   "cell_type": "markdown",
   "id": "d5b2e9b2",
   "metadata": {},
   "source": [
    "## randomly choose 10 rows"
   ]
  },
  {
   "cell_type": "code",
   "execution_count": 6,
   "id": "edc174eb",
   "metadata": {},
   "outputs": [
    {
     "data": {
      "text/html": [
       "<div>\n",
       "<style scoped>\n",
       "    .dataframe tbody tr th:only-of-type {\n",
       "        vertical-align: middle;\n",
       "    }\n",
       "\n",
       "    .dataframe tbody tr th {\n",
       "        vertical-align: top;\n",
       "    }\n",
       "\n",
       "    .dataframe thead th {\n",
       "        text-align: right;\n",
       "    }\n",
       "</style>\n",
       "<table border=\"1\" class=\"dataframe\">\n",
       "  <thead>\n",
       "    <tr style=\"text-align: right;\">\n",
       "      <th></th>\n",
       "      <th>uid</th>\n",
       "      <th>name</th>\n",
       "      <th>entity_type</th>\n",
       "    </tr>\n",
       "  </thead>\n",
       "  <tbody>\n",
       "    <tr>\n",
       "      <th>7951</th>\n",
       "      <td>29820</td>\n",
       "      <td>FARASHAH, Payman Dehghanpour</td>\n",
       "      <td>individual</td>\n",
       "    </tr>\n",
       "    <tr>\n",
       "      <th>2352</th>\n",
       "      <td>12527</td>\n",
       "      <td>AVENDANO OJEDA, Sergio</td>\n",
       "      <td>individual</td>\n",
       "    </tr>\n",
       "    <tr>\n",
       "      <th>9323</th>\n",
       "      <td>35216</td>\n",
       "      <td>NURGALIEV, Rashid Gumarovich</td>\n",
       "      <td>individual</td>\n",
       "    </tr>\n",
       "    <tr>\n",
       "      <th>864</th>\n",
       "      <td>8318</td>\n",
       "      <td>AL-DAJANI, Leila N.S.</td>\n",
       "      <td>individual</td>\n",
       "    </tr>\n",
       "    <tr>\n",
       "      <th>5930</th>\n",
       "      <td>24324</td>\n",
       "      <td>VALIULIN, Timur Samirovich</td>\n",
       "      <td>individual</td>\n",
       "    </tr>\n",
       "    <tr>\n",
       "      <th>9783</th>\n",
       "      <td>35853</td>\n",
       "      <td>OBNOSOV, Boris Viktorovich</td>\n",
       "      <td>individual</td>\n",
       "    </tr>\n",
       "    <tr>\n",
       "      <th>257</th>\n",
       "      <td>7163</td>\n",
       "      <td>AGUILAR AMAO, Miguel</td>\n",
       "      <td>individual</td>\n",
       "    </tr>\n",
       "    <tr>\n",
       "      <th>712</th>\n",
       "      <td>8098</td>\n",
       "      <td>MOSTAFA, Mohamed Amin</td>\n",
       "      <td>individual</td>\n",
       "    </tr>\n",
       "    <tr>\n",
       "      <th>6941</th>\n",
       "      <td>26592</td>\n",
       "      <td>MULAVI, Ali Shams</td>\n",
       "      <td>individual</td>\n",
       "    </tr>\n",
       "    <tr>\n",
       "      <th>9759</th>\n",
       "      <td>35779</td>\n",
       "      <td>GEORGIEVA, Elena Aleksandrovna</td>\n",
       "      <td>individual</td>\n",
       "    </tr>\n",
       "  </tbody>\n",
       "</table>\n",
       "</div>"
      ],
      "text/plain": [
       "        uid                            name entity_type\n",
       "7951  29820    FARASHAH, Payman Dehghanpour  individual\n",
       "2352  12527          AVENDANO OJEDA, Sergio  individual\n",
       "9323  35216    NURGALIEV, Rashid Gumarovich  individual\n",
       "864    8318           AL-DAJANI, Leila N.S.  individual\n",
       "5930  24324      VALIULIN, Timur Samirovich  individual\n",
       "9783  35853      OBNOSOV, Boris Viktorovich  individual\n",
       "257    7163            AGUILAR AMAO, Miguel  individual\n",
       "712    8098           MOSTAFA, Mohamed Amin  individual\n",
       "6941  26592               MULAVI, Ali Shams  individual\n",
       "9759  35779  GEORGIEVA, Elena Aleksandrovna  individual"
      ]
     },
     "execution_count": 6,
     "metadata": {},
     "output_type": "execute_result"
    }
   ],
   "source": [
    "ofac_list_sampled = ofac_list_filtered.sample(n = 10)\n",
    "ofac_list_sampled"
   ]
  },
  {
   "cell_type": "markdown",
   "id": "58f19a68",
   "metadata": {},
   "source": [
    "# CREATE THE TEST CASES"
   ]
  },
  {
   "cell_type": "markdown",
   "id": "41205b68",
   "metadata": {},
   "source": [
    "## create blank final test cases table"
   ]
  },
  {
   "cell_type": "code",
   "execution_count": 7,
   "id": "c72219d5",
   "metadata": {},
   "outputs": [
    {
     "data": {
      "text/html": [
       "<div>\n",
       "<style scoped>\n",
       "    .dataframe tbody tr th:only-of-type {\n",
       "        vertical-align: middle;\n",
       "    }\n",
       "\n",
       "    .dataframe tbody tr th {\n",
       "        vertical-align: top;\n",
       "    }\n",
       "\n",
       "    .dataframe thead th {\n",
       "        text-align: right;\n",
       "    }\n",
       "</style>\n",
       "<table border=\"1\" class=\"dataframe\">\n",
       "  <thead>\n",
       "    <tr style=\"text-align: right;\">\n",
       "      <th></th>\n",
       "      <th>UID</th>\n",
       "      <th>Theme</th>\n",
       "      <th>Category</th>\n",
       "      <th>Sub-category</th>\n",
       "      <th>Entity-Type</th>\n",
       "      <th>Test Case ID</th>\n",
       "      <th>OFAC List UID</th>\n",
       "      <th>Original Name</th>\n",
       "      <th>Test Case Name</th>\n",
       "    </tr>\n",
       "  </thead>\n",
       "  <tbody>\n",
       "  </tbody>\n",
       "</table>\n",
       "</div>"
      ],
      "text/plain": [
       "Empty DataFrame\n",
       "Columns: [UID, Theme, Category, Sub-category, Entity-Type, Test Case ID, OFAC List UID, Original Name, Test Case Name]\n",
       "Index: []"
      ]
     },
     "execution_count": 7,
     "metadata": {},
     "output_type": "execute_result"
    }
   ],
   "source": [
    "final_test_cases = pd.DataFrame(columns=['UID', 'Theme','Category','Sub-category','Entity-Type','Test Case ID' , 'OFAC List UID', 'Original Name','Test Case Name'])\n",
    "final_test_cases"
   ]
  },
  {
   "cell_type": "markdown",
   "id": "e8949bbd",
   "metadata": {},
   "source": [
    "## run loop to generate the test cases"
   ]
  },
  {
   "cell_type": "code",
   "execution_count": 8,
   "id": "f18b6995",
   "metadata": {},
   "outputs": [
    {
     "data": {
      "text/html": [
       "<div>\n",
       "<style scoped>\n",
       "    .dataframe tbody tr th:only-of-type {\n",
       "        vertical-align: middle;\n",
       "    }\n",
       "\n",
       "    .dataframe tbody tr th {\n",
       "        vertical-align: top;\n",
       "    }\n",
       "\n",
       "    .dataframe thead th {\n",
       "        text-align: right;\n",
       "    }\n",
       "</style>\n",
       "<table border=\"1\" class=\"dataframe\">\n",
       "  <thead>\n",
       "    <tr style=\"text-align: right;\">\n",
       "      <th></th>\n",
       "      <th>UID</th>\n",
       "      <th>Theme</th>\n",
       "      <th>Category</th>\n",
       "      <th>Sub-category</th>\n",
       "      <th>Entity-Type</th>\n",
       "      <th>Test Case ID</th>\n",
       "      <th>OFAC List UID</th>\n",
       "      <th>Original Name</th>\n",
       "      <th>Test Case Name</th>\n",
       "    </tr>\n",
       "  </thead>\n",
       "  <tbody>\n",
       "    <tr>\n",
       "      <th>0</th>\n",
       "      <td>UID-300</td>\n",
       "      <td>Names where name parts are Modified</td>\n",
       "      <td>Typos</td>\n",
       "      <td>1 Typo - any letter</td>\n",
       "      <td>Individual</td>\n",
       "      <td>UID-300 - 7951</td>\n",
       "      <td>29820</td>\n",
       "      <td>FARASHAH, Payman Dehghanpour</td>\n",
       "      <td>FARSSHAH, PAYMAN DEHGHANPOUR</td>\n",
       "    </tr>\n",
       "    <tr>\n",
       "      <th>1</th>\n",
       "      <td>UID-300</td>\n",
       "      <td>Names where name parts are Modified</td>\n",
       "      <td>Typos</td>\n",
       "      <td>1 Typo - any letter</td>\n",
       "      <td>Individual</td>\n",
       "      <td>UID-300 - 2352</td>\n",
       "      <td>12527</td>\n",
       "      <td>AVENDANO OJEDA, Sergio</td>\n",
       "      <td>AVENDANO OJEDA, SENGIO</td>\n",
       "    </tr>\n",
       "    <tr>\n",
       "      <th>2</th>\n",
       "      <td>UID-300</td>\n",
       "      <td>Names where name parts are Modified</td>\n",
       "      <td>Typos</td>\n",
       "      <td>1 Typo - any letter</td>\n",
       "      <td>Individual</td>\n",
       "      <td>UID-300 - 9323</td>\n",
       "      <td>35216</td>\n",
       "      <td>NURGALIEV, Rashid Gumarovich</td>\n",
       "      <td>NURGALIEV, RASHID GUMOROVICH</td>\n",
       "    </tr>\n",
       "    <tr>\n",
       "      <th>3</th>\n",
       "      <td>UID-300</td>\n",
       "      <td>Names where name parts are Modified</td>\n",
       "      <td>Typos</td>\n",
       "      <td>1 Typo - any letter</td>\n",
       "      <td>Individual</td>\n",
       "      <td>UID-300 - 864</td>\n",
       "      <td>8318</td>\n",
       "      <td>AL-DAJANI, Leila N.S.</td>\n",
       "      <td>AL-DAJANI, LDILA N.S.</td>\n",
       "    </tr>\n",
       "    <tr>\n",
       "      <th>4</th>\n",
       "      <td>UID-300</td>\n",
       "      <td>Names where name parts are Modified</td>\n",
       "      <td>Typos</td>\n",
       "      <td>1 Typo - any letter</td>\n",
       "      <td>Individual</td>\n",
       "      <td>UID-300 - 5930</td>\n",
       "      <td>24324</td>\n",
       "      <td>VALIULIN, Timur Samirovich</td>\n",
       "      <td>VALLULIN, TIMUR SAMIROVICH</td>\n",
       "    </tr>\n",
       "    <tr>\n",
       "      <th>5</th>\n",
       "      <td>UID-300</td>\n",
       "      <td>Names where name parts are Modified</td>\n",
       "      <td>Typos</td>\n",
       "      <td>1 Typo - any letter</td>\n",
       "      <td>Individual</td>\n",
       "      <td>UID-300 - 9783</td>\n",
       "      <td>35853</td>\n",
       "      <td>OBNOSOV, Boris Viktorovich</td>\n",
       "      <td>OBNBSOV, BORIS VIKTOROVICH</td>\n",
       "    </tr>\n",
       "    <tr>\n",
       "      <th>6</th>\n",
       "      <td>UID-300</td>\n",
       "      <td>Names where name parts are Modified</td>\n",
       "      <td>Typos</td>\n",
       "      <td>1 Typo - any letter</td>\n",
       "      <td>Individual</td>\n",
       "      <td>UID-300 - 257</td>\n",
       "      <td>7163</td>\n",
       "      <td>AGUILAR AMAO, Miguel</td>\n",
       "      <td>AGUILAR AMAO, MIGKEL</td>\n",
       "    </tr>\n",
       "    <tr>\n",
       "      <th>7</th>\n",
       "      <td>UID-300</td>\n",
       "      <td>Names where name parts are Modified</td>\n",
       "      <td>Typos</td>\n",
       "      <td>1 Typo - any letter</td>\n",
       "      <td>Individual</td>\n",
       "      <td>UID-300 - 712</td>\n",
       "      <td>8098</td>\n",
       "      <td>MOSTAFA, Mohamed Amin</td>\n",
       "      <td>MOSTAFA, MOHAMED UMIN</td>\n",
       "    </tr>\n",
       "    <tr>\n",
       "      <th>8</th>\n",
       "      <td>UID-300</td>\n",
       "      <td>Names where name parts are Modified</td>\n",
       "      <td>Typos</td>\n",
       "      <td>1 Typo - any letter</td>\n",
       "      <td>Individual</td>\n",
       "      <td>UID-300 - 6941</td>\n",
       "      <td>26592</td>\n",
       "      <td>MULAVI, Ali Shams</td>\n",
       "      <td>MMLAVI, ALI SHAMS</td>\n",
       "    </tr>\n",
       "    <tr>\n",
       "      <th>9</th>\n",
       "      <td>UID-300</td>\n",
       "      <td>Names where name parts are Modified</td>\n",
       "      <td>Typos</td>\n",
       "      <td>1 Typo - any letter</td>\n",
       "      <td>Individual</td>\n",
       "      <td>UID-300 - 9759</td>\n",
       "      <td>35779</td>\n",
       "      <td>GEORGIEVA, Elena Aleksandrovna</td>\n",
       "      <td>GEORGIEVA, ELENA ALEKSANDROLNA</td>\n",
       "    </tr>\n",
       "  </tbody>\n",
       "</table>\n",
       "</div>"
      ],
      "text/plain": [
       "       UID                                Theme Category         Sub-category  \\\n",
       "0  UID-300  Names where name parts are Modified    Typos  1 Typo - any letter   \n",
       "1  UID-300  Names where name parts are Modified    Typos  1 Typo - any letter   \n",
       "2  UID-300  Names where name parts are Modified    Typos  1 Typo - any letter   \n",
       "3  UID-300  Names where name parts are Modified    Typos  1 Typo - any letter   \n",
       "4  UID-300  Names where name parts are Modified    Typos  1 Typo - any letter   \n",
       "5  UID-300  Names where name parts are Modified    Typos  1 Typo - any letter   \n",
       "6  UID-300  Names where name parts are Modified    Typos  1 Typo - any letter   \n",
       "7  UID-300  Names where name parts are Modified    Typos  1 Typo - any letter   \n",
       "8  UID-300  Names where name parts are Modified    Typos  1 Typo - any letter   \n",
       "9  UID-300  Names where name parts are Modified    Typos  1 Typo - any letter   \n",
       "\n",
       "  Entity-Type    Test Case ID OFAC List UID                   Original Name  \\\n",
       "0  Individual  UID-300 - 7951         29820    FARASHAH, Payman Dehghanpour   \n",
       "1  Individual  UID-300 - 2352         12527          AVENDANO OJEDA, Sergio   \n",
       "2  Individual  UID-300 - 9323         35216    NURGALIEV, Rashid Gumarovich   \n",
       "3  Individual   UID-300 - 864          8318           AL-DAJANI, Leila N.S.   \n",
       "4  Individual  UID-300 - 5930         24324      VALIULIN, Timur Samirovich   \n",
       "5  Individual  UID-300 - 9783         35853      OBNOSOV, Boris Viktorovich   \n",
       "6  Individual   UID-300 - 257          7163            AGUILAR AMAO, Miguel   \n",
       "7  Individual   UID-300 - 712          8098           MOSTAFA, Mohamed Amin   \n",
       "8  Individual  UID-300 - 6941         26592               MULAVI, Ali Shams   \n",
       "9  Individual  UID-300 - 9759         35779  GEORGIEVA, Elena Aleksandrovna   \n",
       "\n",
       "                   Test Case Name  \n",
       "0    FARSSHAH, PAYMAN DEHGHANPOUR  \n",
       "1          AVENDANO OJEDA, SENGIO  \n",
       "2    NURGALIEV, RASHID GUMOROVICH  \n",
       "3           AL-DAJANI, LDILA N.S.  \n",
       "4      VALLULIN, TIMUR SAMIROVICH  \n",
       "5      OBNBSOV, BORIS VIKTOROVICH  \n",
       "6            AGUILAR AMAO, MIGKEL  \n",
       "7           MOSTAFA, MOHAMED UMIN  \n",
       "8               MMLAVI, ALI SHAMS  \n",
       "9  GEORGIEVA, ELENA ALEKSANDROLNA  "
      ]
     },
     "execution_count": 8,
     "metadata": {},
     "output_type": "execute_result"
    }
   ],
   "source": [
    "for index, row in ofac_list_sampled.iterrows():\n",
    "    original_name = row['name'].upper()\n",
    "    original_name_list = list(original_name) # transfer name string into letter list\n",
    "    \n",
    "    random_index = np.random.choice(list(range(len(original_name_list)))[1:-1]) # randomly choose letter to be replaced\n",
    "    while original_name_list[random_index] not in alphabet(): # rerandom if not letter \n",
    "        random_index = np.random.choice(len(original_name_list))\n",
    "    while original_name_list[random_index] == original_name[random_index]: # rerandom if no letter has been replaced\n",
    "        original_name_list[random_index] = rand_letter() # replace letter\n",
    "\n",
    "    final_test_name = ''.join(original_name_list)\n",
    "    \n",
    "    final_test_cases.loc[len(final_test_cases)] = [uid, theme, category, sub_category, entity_type, uid + ' - ' + str(index), row['uid'], row['name'], final_test_name] # append to the dataframe\n",
    "\n",
    "final_test_cases"
   ]
  }
 ],
 "metadata": {
  "kernelspec": {
   "display_name": "Python 3 (ipykernel)",
   "language": "python",
   "name": "python3"
  },
  "language_info": {
   "codemirror_mode": {
    "name": "ipython",
    "version": 3
   },
   "file_extension": ".py",
   "mimetype": "text/x-python",
   "name": "python",
   "nbconvert_exporter": "python",
   "pygments_lexer": "ipython3",
   "version": "3.8.8"
  }
 },
 "nbformat": 4,
 "nbformat_minor": 5
}
