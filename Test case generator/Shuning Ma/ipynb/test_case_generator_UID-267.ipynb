{
 "cells": [
  {
   "cell_type": "markdown",
   "id": "e587297b",
   "metadata": {},
   "source": [
    "# IMPORT DATA, PACKAGES, AND FUNCTIONS"
   ]
  },
  {
   "cell_type": "markdown",
   "id": "2bf79a81",
   "metadata": {},
   "source": [
    "## import the relevant functions and packages"
   ]
  },
  {
   "cell_type": "code",
   "execution_count": 1,
   "id": "000435e8",
   "metadata": {},
   "outputs": [],
   "source": [
    "import pandas as pd\n",
    "import numpy as np\n",
    "from test_case_generator_functions import alphabet"
   ]
  },
  {
   "cell_type": "markdown",
   "id": "f63740d7",
   "metadata": {},
   "source": [
    "# TEST CASE TYPE REFERENCE INFORMATION"
   ]
  },
  {
   "cell_type": "code",
   "execution_count": 2,
   "id": "4b3f7972",
   "metadata": {},
   "outputs": [],
   "source": [
    "uid = 'UID-267' \n",
    "theme = 'Names where name parts are Modified'\n",
    "category = 'Truncation'\n",
    "sub_category = '> 2 Letter Truncation in the end'\n",
    "entity_type = 'Individual'"
   ]
  },
  {
   "cell_type": "markdown",
   "id": "8aeeb278",
   "metadata": {},
   "source": [
    "## download the OFAC list from the web"
   ]
  },
  {
   "cell_type": "code",
   "execution_count": 3,
   "id": "a27d14e3",
   "metadata": {},
   "outputs": [],
   "source": [
    "ofac_list_download = pd.read_csv('https://www.treasury.gov/ofac/downloads/sdn.csv', header=None)"
   ]
  },
  {
   "cell_type": "code",
   "execution_count": 4,
   "id": "e7436dad",
   "metadata": {},
   "outputs": [],
   "source": [
    "ofac_list = ofac_list_download[[0,1,2]]\n",
    "ofac_list.columns = ['uid', 'name', 'entity_type']"
   ]
  },
  {
   "cell_type": "markdown",
   "id": "401067db",
   "metadata": {},
   "source": [
    "# FILTER FOR THE REQUIREMENTS OF THE TEST CASE TYPE"
   ]
  },
  {
   "cell_type": "markdown",
   "id": "f486eee5",
   "metadata": {},
   "source": [
    "## filter for the requirements of the specific test case type"
   ]
  },
  {
   "cell_type": "code",
   "execution_count": 5,
   "id": "01588e99",
   "metadata": {},
   "outputs": [],
   "source": [
    "ofac_list_filtered = ofac_list[(ofac_list.entity_type == 'individual')] # only evaluate individuals"
   ]
  },
  {
   "cell_type": "markdown",
   "id": "d5b2e9b2",
   "metadata": {},
   "source": [
    "## randomly choose 10 rows"
   ]
  },
  {
   "cell_type": "code",
   "execution_count": 6,
   "id": "edc174eb",
   "metadata": {},
   "outputs": [
    {
     "data": {
      "text/html": [
       "<div>\n",
       "<style scoped>\n",
       "    .dataframe tbody tr th:only-of-type {\n",
       "        vertical-align: middle;\n",
       "    }\n",
       "\n",
       "    .dataframe tbody tr th {\n",
       "        vertical-align: top;\n",
       "    }\n",
       "\n",
       "    .dataframe thead th {\n",
       "        text-align: right;\n",
       "    }\n",
       "</style>\n",
       "<table border=\"1\" class=\"dataframe\">\n",
       "  <thead>\n",
       "    <tr style=\"text-align: right;\">\n",
       "      <th></th>\n",
       "      <th>uid</th>\n",
       "      <th>name</th>\n",
       "      <th>entity_type</th>\n",
       "    </tr>\n",
       "  </thead>\n",
       "  <tbody>\n",
       "    <tr>\n",
       "      <th>7549</th>\n",
       "      <td>28312</td>\n",
       "      <td>DUARTE, Franklyn Leonardo</td>\n",
       "      <td>individual</td>\n",
       "    </tr>\n",
       "    <tr>\n",
       "      <th>750</th>\n",
       "      <td>8144</td>\n",
       "      <td>BUITRAGO PARADA, Hector German</td>\n",
       "      <td>individual</td>\n",
       "    </tr>\n",
       "    <tr>\n",
       "      <th>381</th>\n",
       "      <td>7481</td>\n",
       "      <td>BUKA, Flora</td>\n",
       "      <td>individual</td>\n",
       "    </tr>\n",
       "    <tr>\n",
       "      <th>7949</th>\n",
       "      <td>29818</td>\n",
       "      <td>KANDI, Omid Moosazadeh Hamzeh</td>\n",
       "      <td>individual</td>\n",
       "    </tr>\n",
       "    <tr>\n",
       "      <th>10345</th>\n",
       "      <td>37305</td>\n",
       "      <td>VOLOTSKOV, Alexey Anatolievich</td>\n",
       "      <td>individual</td>\n",
       "    </tr>\n",
       "    <tr>\n",
       "      <th>5911</th>\n",
       "      <td>24263</td>\n",
       "      <td>QAYYUUM, Tabish</td>\n",
       "      <td>individual</td>\n",
       "    </tr>\n",
       "    <tr>\n",
       "      <th>2382</th>\n",
       "      <td>12577</td>\n",
       "      <td>KALKAN, Duran</td>\n",
       "      <td>individual</td>\n",
       "    </tr>\n",
       "    <tr>\n",
       "      <th>7355</th>\n",
       "      <td>27685</td>\n",
       "      <td>CARRENO ESCOBAR, Pedro Miguel</td>\n",
       "      <td>individual</td>\n",
       "    </tr>\n",
       "    <tr>\n",
       "      <th>4973</th>\n",
       "      <td>21943</td>\n",
       "      <td>AL-TABBAL, Saba</td>\n",
       "      <td>individual</td>\n",
       "    </tr>\n",
       "    <tr>\n",
       "      <th>10751</th>\n",
       "      <td>38420</td>\n",
       "      <td>NIKAEEN RAVARI, Amir Hossein</td>\n",
       "      <td>individual</td>\n",
       "    </tr>\n",
       "  </tbody>\n",
       "</table>\n",
       "</div>"
      ],
      "text/plain": [
       "         uid                            name entity_type\n",
       "7549   28312       DUARTE, Franklyn Leonardo  individual\n",
       "750     8144  BUITRAGO PARADA, Hector German  individual\n",
       "381     7481                     BUKA, Flora  individual\n",
       "7949   29818   KANDI, Omid Moosazadeh Hamzeh  individual\n",
       "10345  37305  VOLOTSKOV, Alexey Anatolievich  individual\n",
       "5911   24263                 QAYYUUM, Tabish  individual\n",
       "2382   12577                   KALKAN, Duran  individual\n",
       "7355   27685   CARRENO ESCOBAR, Pedro Miguel  individual\n",
       "4973   21943                 AL-TABBAL, Saba  individual\n",
       "10751  38420    NIKAEEN RAVARI, Amir Hossein  individual"
      ]
     },
     "execution_count": 6,
     "metadata": {},
     "output_type": "execute_result"
    }
   ],
   "source": [
    "while True:\n",
    "    ofac_list_sampled = ofac_list_filtered.sample(n = 10)\n",
    "    cnt = [0] * 10\n",
    "    for ind, name in enumerate(ofac_list_sampled['name']):\n",
    "        split_name = name.upper().split(' ')\n",
    "        \n",
    "        if all(i in alphabet() for i in list(split_name[-1][-3:])) & (len(split_name[-1]) > 3) & (len(' '.join(split_name)) > 10):\n",
    "            cnt[ind] += 1\n",
    "\n",
    "    if all(i == 1 for i in cnt):\n",
    "        break\n",
    "\n",
    "ofac_list_sampled"
   ]
  },
  {
   "cell_type": "markdown",
   "id": "6a295e0c",
   "metadata": {},
   "source": [
    "# CREATE THE TEST CASES"
   ]
  },
  {
   "cell_type": "markdown",
   "id": "41205b68",
   "metadata": {},
   "source": [
    "## create blank final test cases table"
   ]
  },
  {
   "cell_type": "code",
   "execution_count": 7,
   "id": "c72219d5",
   "metadata": {},
   "outputs": [
    {
     "data": {
      "text/html": [
       "<div>\n",
       "<style scoped>\n",
       "    .dataframe tbody tr th:only-of-type {\n",
       "        vertical-align: middle;\n",
       "    }\n",
       "\n",
       "    .dataframe tbody tr th {\n",
       "        vertical-align: top;\n",
       "    }\n",
       "\n",
       "    .dataframe thead th {\n",
       "        text-align: right;\n",
       "    }\n",
       "</style>\n",
       "<table border=\"1\" class=\"dataframe\">\n",
       "  <thead>\n",
       "    <tr style=\"text-align: right;\">\n",
       "      <th></th>\n",
       "      <th>UID</th>\n",
       "      <th>Theme</th>\n",
       "      <th>Category</th>\n",
       "      <th>Sub-category</th>\n",
       "      <th>Entity-Type</th>\n",
       "      <th>Test Case ID</th>\n",
       "      <th>OFAC List UID</th>\n",
       "      <th>Original Name</th>\n",
       "      <th>Test Case Name</th>\n",
       "    </tr>\n",
       "  </thead>\n",
       "  <tbody>\n",
       "  </tbody>\n",
       "</table>\n",
       "</div>"
      ],
      "text/plain": [
       "Empty DataFrame\n",
       "Columns: [UID, Theme, Category, Sub-category, Entity-Type, Test Case ID, OFAC List UID, Original Name, Test Case Name]\n",
       "Index: []"
      ]
     },
     "execution_count": 7,
     "metadata": {},
     "output_type": "execute_result"
    }
   ],
   "source": [
    "final_test_cases = pd.DataFrame(columns=['UID', 'Theme','Category','Sub-category','Entity-Type','Test Case ID' , 'OFAC List UID', 'Original Name','Test Case Name'])\n",
    "final_test_cases"
   ]
  },
  {
   "cell_type": "markdown",
   "id": "e8949bbd",
   "metadata": {},
   "source": [
    "## run loop to generate the test cases"
   ]
  },
  {
   "cell_type": "code",
   "execution_count": 8,
   "id": "f18b6995",
   "metadata": {},
   "outputs": [
    {
     "data": {
      "text/html": [
       "<div>\n",
       "<style scoped>\n",
       "    .dataframe tbody tr th:only-of-type {\n",
       "        vertical-align: middle;\n",
       "    }\n",
       "\n",
       "    .dataframe tbody tr th {\n",
       "        vertical-align: top;\n",
       "    }\n",
       "\n",
       "    .dataframe thead th {\n",
       "        text-align: right;\n",
       "    }\n",
       "</style>\n",
       "<table border=\"1\" class=\"dataframe\">\n",
       "  <thead>\n",
       "    <tr style=\"text-align: right;\">\n",
       "      <th></th>\n",
       "      <th>UID</th>\n",
       "      <th>Theme</th>\n",
       "      <th>Category</th>\n",
       "      <th>Sub-category</th>\n",
       "      <th>Entity-Type</th>\n",
       "      <th>Test Case ID</th>\n",
       "      <th>OFAC List UID</th>\n",
       "      <th>Original Name</th>\n",
       "      <th>Test Case Name</th>\n",
       "    </tr>\n",
       "  </thead>\n",
       "  <tbody>\n",
       "    <tr>\n",
       "      <th>0</th>\n",
       "      <td>UID-267</td>\n",
       "      <td>Names where name parts are Modified</td>\n",
       "      <td>Truncation</td>\n",
       "      <td>&gt; 2 Letter Truncation in the end</td>\n",
       "      <td>Individual</td>\n",
       "      <td>UID-267 - 7549</td>\n",
       "      <td>28312</td>\n",
       "      <td>DUARTE, Franklyn Leonardo</td>\n",
       "      <td>DUARTE, FRANKLYN LEONA</td>\n",
       "    </tr>\n",
       "    <tr>\n",
       "      <th>1</th>\n",
       "      <td>UID-267</td>\n",
       "      <td>Names where name parts are Modified</td>\n",
       "      <td>Truncation</td>\n",
       "      <td>&gt; 2 Letter Truncation in the end</td>\n",
       "      <td>Individual</td>\n",
       "      <td>UID-267 - 750</td>\n",
       "      <td>8144</td>\n",
       "      <td>BUITRAGO PARADA, Hector German</td>\n",
       "      <td>BUITRAGO PARADA, HECTOR GER</td>\n",
       "    </tr>\n",
       "    <tr>\n",
       "      <th>2</th>\n",
       "      <td>UID-267</td>\n",
       "      <td>Names where name parts are Modified</td>\n",
       "      <td>Truncation</td>\n",
       "      <td>&gt; 2 Letter Truncation in the end</td>\n",
       "      <td>Individual</td>\n",
       "      <td>UID-267 - 381</td>\n",
       "      <td>7481</td>\n",
       "      <td>BUKA, Flora</td>\n",
       "      <td>BUKA, F</td>\n",
       "    </tr>\n",
       "    <tr>\n",
       "      <th>3</th>\n",
       "      <td>UID-267</td>\n",
       "      <td>Names where name parts are Modified</td>\n",
       "      <td>Truncation</td>\n",
       "      <td>&gt; 2 Letter Truncation in the end</td>\n",
       "      <td>Individual</td>\n",
       "      <td>UID-267 - 7949</td>\n",
       "      <td>29818</td>\n",
       "      <td>KANDI, Omid Moosazadeh Hamzeh</td>\n",
       "      <td>KANDI, OMID MOOSAZADEH HA</td>\n",
       "    </tr>\n",
       "    <tr>\n",
       "      <th>4</th>\n",
       "      <td>UID-267</td>\n",
       "      <td>Names where name parts are Modified</td>\n",
       "      <td>Truncation</td>\n",
       "      <td>&gt; 2 Letter Truncation in the end</td>\n",
       "      <td>Individual</td>\n",
       "      <td>UID-267 - 10345</td>\n",
       "      <td>37305</td>\n",
       "      <td>VOLOTSKOV, Alexey Anatolievich</td>\n",
       "      <td>VOLOTSKOV, ALEXEY ANATOLI</td>\n",
       "    </tr>\n",
       "    <tr>\n",
       "      <th>5</th>\n",
       "      <td>UID-267</td>\n",
       "      <td>Names where name parts are Modified</td>\n",
       "      <td>Truncation</td>\n",
       "      <td>&gt; 2 Letter Truncation in the end</td>\n",
       "      <td>Individual</td>\n",
       "      <td>UID-267 - 5911</td>\n",
       "      <td>24263</td>\n",
       "      <td>QAYYUUM, Tabish</td>\n",
       "      <td>QAYYUUM, TAB</td>\n",
       "    </tr>\n",
       "    <tr>\n",
       "      <th>6</th>\n",
       "      <td>UID-267</td>\n",
       "      <td>Names where name parts are Modified</td>\n",
       "      <td>Truncation</td>\n",
       "      <td>&gt; 2 Letter Truncation in the end</td>\n",
       "      <td>Individual</td>\n",
       "      <td>UID-267 - 2382</td>\n",
       "      <td>12577</td>\n",
       "      <td>KALKAN, Duran</td>\n",
       "      <td>KALKAN, D</td>\n",
       "    </tr>\n",
       "    <tr>\n",
       "      <th>7</th>\n",
       "      <td>UID-267</td>\n",
       "      <td>Names where name parts are Modified</td>\n",
       "      <td>Truncation</td>\n",
       "      <td>&gt; 2 Letter Truncation in the end</td>\n",
       "      <td>Individual</td>\n",
       "      <td>UID-267 - 7355</td>\n",
       "      <td>27685</td>\n",
       "      <td>CARRENO ESCOBAR, Pedro Miguel</td>\n",
       "      <td>CARRENO ESCOBAR, PEDRO MI</td>\n",
       "    </tr>\n",
       "    <tr>\n",
       "      <th>8</th>\n",
       "      <td>UID-267</td>\n",
       "      <td>Names where name parts are Modified</td>\n",
       "      <td>Truncation</td>\n",
       "      <td>&gt; 2 Letter Truncation in the end</td>\n",
       "      <td>Individual</td>\n",
       "      <td>UID-267 - 4973</td>\n",
       "      <td>21943</td>\n",
       "      <td>AL-TABBAL, Saba</td>\n",
       "      <td>AL-TABBAL, S</td>\n",
       "    </tr>\n",
       "    <tr>\n",
       "      <th>9</th>\n",
       "      <td>UID-267</td>\n",
       "      <td>Names where name parts are Modified</td>\n",
       "      <td>Truncation</td>\n",
       "      <td>&gt; 2 Letter Truncation in the end</td>\n",
       "      <td>Individual</td>\n",
       "      <td>UID-267 - 10751</td>\n",
       "      <td>38420</td>\n",
       "      <td>NIKAEEN RAVARI, Amir Hossein</td>\n",
       "      <td>NIKAEEN RAVARI, AMIR HOS</td>\n",
       "    </tr>\n",
       "  </tbody>\n",
       "</table>\n",
       "</div>"
      ],
      "text/plain": [
       "       UID                                Theme    Category  \\\n",
       "0  UID-267  Names where name parts are Modified  Truncation   \n",
       "1  UID-267  Names where name parts are Modified  Truncation   \n",
       "2  UID-267  Names where name parts are Modified  Truncation   \n",
       "3  UID-267  Names where name parts are Modified  Truncation   \n",
       "4  UID-267  Names where name parts are Modified  Truncation   \n",
       "5  UID-267  Names where name parts are Modified  Truncation   \n",
       "6  UID-267  Names where name parts are Modified  Truncation   \n",
       "7  UID-267  Names where name parts are Modified  Truncation   \n",
       "8  UID-267  Names where name parts are Modified  Truncation   \n",
       "9  UID-267  Names where name parts are Modified  Truncation   \n",
       "\n",
       "                       Sub-category Entity-Type     Test Case ID  \\\n",
       "0  > 2 Letter Truncation in the end  Individual   UID-267 - 7549   \n",
       "1  > 2 Letter Truncation in the end  Individual    UID-267 - 750   \n",
       "2  > 2 Letter Truncation in the end  Individual    UID-267 - 381   \n",
       "3  > 2 Letter Truncation in the end  Individual   UID-267 - 7949   \n",
       "4  > 2 Letter Truncation in the end  Individual  UID-267 - 10345   \n",
       "5  > 2 Letter Truncation in the end  Individual   UID-267 - 5911   \n",
       "6  > 2 Letter Truncation in the end  Individual   UID-267 - 2382   \n",
       "7  > 2 Letter Truncation in the end  Individual   UID-267 - 7355   \n",
       "8  > 2 Letter Truncation in the end  Individual   UID-267 - 4973   \n",
       "9  > 2 Letter Truncation in the end  Individual  UID-267 - 10751   \n",
       "\n",
       "  OFAC List UID                   Original Name               Test Case Name  \n",
       "0         28312       DUARTE, Franklyn Leonardo       DUARTE, FRANKLYN LEONA  \n",
       "1          8144  BUITRAGO PARADA, Hector German  BUITRAGO PARADA, HECTOR GER  \n",
       "2          7481                     BUKA, Flora                      BUKA, F  \n",
       "3         29818   KANDI, Omid Moosazadeh Hamzeh    KANDI, OMID MOOSAZADEH HA  \n",
       "4         37305  VOLOTSKOV, Alexey Anatolievich    VOLOTSKOV, ALEXEY ANATOLI  \n",
       "5         24263                 QAYYUUM, Tabish                 QAYYUUM, TAB  \n",
       "6         12577                   KALKAN, Duran                    KALKAN, D  \n",
       "7         27685   CARRENO ESCOBAR, Pedro Miguel    CARRENO ESCOBAR, PEDRO MI  \n",
       "8         21943                 AL-TABBAL, Saba                 AL-TABBAL, S  \n",
       "9         38420    NIKAEEN RAVARI, Amir Hossein     NIKAEEN RAVARI, AMIR HOS  "
      ]
     },
     "execution_count": 8,
     "metadata": {},
     "output_type": "execute_result"
    }
   ],
   "source": [
    "for index, row in ofac_list_sampled.iterrows():\n",
    "    original_name = row['name'].upper()\n",
    "    split_original_name = original_name.split(' ') # split name into word\n",
    "    final_test_name = split_original_name.copy()\n",
    "    \n",
    "    truncate_word = split_original_name[-1] # choose word to be truncated\n",
    "    truncate_number = np.random.randint(3, len(truncate_word))\n",
    "        \n",
    "    final_test_name[final_test_name.index(truncate_word)] = truncate_word[:len(truncate_word) - truncate_number]\n",
    "\n",
    "    final_test_name = ' '.join(final_test_name)\n",
    "    \n",
    "    final_test_cases.loc[len(final_test_cases)] = [uid, theme, category, sub_category, entity_type, uid + ' - ' + str(index), row['uid'], row['name'], final_test_name] # append to the dataframe\n",
    "\n",
    "final_test_cases"
   ]
  }
 ],
 "metadata": {
  "kernelspec": {
   "display_name": "Python 3 (ipykernel)",
   "language": "python",
   "name": "python3"
  },
  "language_info": {
   "codemirror_mode": {
    "name": "ipython",
    "version": 3
   },
   "file_extension": ".py",
   "mimetype": "text/x-python",
   "name": "python",
   "nbconvert_exporter": "python",
   "pygments_lexer": "ipython3",
   "version": "3.8.8"
  }
 },
 "nbformat": 4,
 "nbformat_minor": 5
}
