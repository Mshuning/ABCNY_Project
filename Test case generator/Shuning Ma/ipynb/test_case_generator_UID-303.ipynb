{
 "cells": [
  {
   "cell_type": "markdown",
   "id": "e587297b",
   "metadata": {},
   "source": [
    "# IMPORT DATA, PACKAGES, AND FUNCTIONS"
   ]
  },
  {
   "cell_type": "markdown",
   "id": "2bf79a81",
   "metadata": {},
   "source": [
    "## import the relevant functions and packages"
   ]
  },
  {
   "cell_type": "code",
   "execution_count": 1,
   "id": "000435e8",
   "metadata": {},
   "outputs": [],
   "source": [
    "import pandas as pd\n",
    "import numpy as np\n",
    "from test_case_generator_functions import alphabet, rand_letter"
   ]
  },
  {
   "cell_type": "markdown",
   "id": "f63740d7",
   "metadata": {},
   "source": [
    "# TEST CASE TYPE REFERENCE INFORMATION"
   ]
  },
  {
   "cell_type": "code",
   "execution_count": 2,
   "id": "4b3f7972",
   "metadata": {},
   "outputs": [],
   "source": [
    "uid = 'UID-303' \n",
    "theme = 'Names where name parts are Modified'\n",
    "category = 'Typos'\n",
    "sub_category = '1 Typo - first letter'\n",
    "entity_type = 'Individual'"
   ]
  },
  {
   "cell_type": "markdown",
   "id": "8aeeb278",
   "metadata": {},
   "source": [
    "## download the OFAC list from the web"
   ]
  },
  {
   "cell_type": "code",
   "execution_count": 3,
   "id": "a27d14e3",
   "metadata": {},
   "outputs": [],
   "source": [
    "ofac_list_download = pd.read_csv('https://www.treasury.gov/ofac/downloads/sdn.csv', header=None)"
   ]
  },
  {
   "cell_type": "code",
   "execution_count": 4,
   "id": "e7436dad",
   "metadata": {},
   "outputs": [],
   "source": [
    "ofac_list = ofac_list_download[[0,1,2]]\n",
    "ofac_list.columns = ['uid', 'name', 'entity_type']"
   ]
  },
  {
   "cell_type": "markdown",
   "id": "401067db",
   "metadata": {},
   "source": [
    "# FILTER FOR THE REQUIREMENTS OF THE TEST CASE TYPE"
   ]
  },
  {
   "cell_type": "markdown",
   "id": "f486eee5",
   "metadata": {},
   "source": [
    "## filter for the requirements of the specific test case type"
   ]
  },
  {
   "cell_type": "code",
   "execution_count": 5,
   "id": "01588e99",
   "metadata": {},
   "outputs": [],
   "source": [
    "ofac_list_filtered = ofac_list[(ofac_list.entity_type == 'individual')] # only evaluate individuals"
   ]
  },
  {
   "cell_type": "markdown",
   "id": "d5b2e9b2",
   "metadata": {},
   "source": [
    "## randomly choose 10 rows"
   ]
  },
  {
   "cell_type": "code",
   "execution_count": 6,
   "id": "edc174eb",
   "metadata": {},
   "outputs": [
    {
     "data": {
      "text/html": [
       "<div>\n",
       "<style scoped>\n",
       "    .dataframe tbody tr th:only-of-type {\n",
       "        vertical-align: middle;\n",
       "    }\n",
       "\n",
       "    .dataframe tbody tr th {\n",
       "        vertical-align: top;\n",
       "    }\n",
       "\n",
       "    .dataframe thead th {\n",
       "        text-align: right;\n",
       "    }\n",
       "</style>\n",
       "<table border=\"1\" class=\"dataframe\">\n",
       "  <thead>\n",
       "    <tr style=\"text-align: right;\">\n",
       "      <th></th>\n",
       "      <th>uid</th>\n",
       "      <th>name</th>\n",
       "      <th>entity_type</th>\n",
       "    </tr>\n",
       "  </thead>\n",
       "  <tbody>\n",
       "    <tr>\n",
       "      <th>318</th>\n",
       "      <td>7252</td>\n",
       "      <td>BEN ATTIA, Nabil Ben Mohamed Ben Ali</td>\n",
       "      <td>individual</td>\n",
       "    </tr>\n",
       "    <tr>\n",
       "      <th>7333</th>\n",
       "      <td>27474</td>\n",
       "      <td>MAO, Yu Hua</td>\n",
       "      <td>individual</td>\n",
       "    </tr>\n",
       "    <tr>\n",
       "      <th>7936</th>\n",
       "      <td>29805</td>\n",
       "      <td>MOSTAFAEI, Saeed</td>\n",
       "      <td>individual</td>\n",
       "    </tr>\n",
       "    <tr>\n",
       "      <th>6171</th>\n",
       "      <td>25100</td>\n",
       "      <td>SARRIA DIAZ, Edgar Alberto</td>\n",
       "      <td>individual</td>\n",
       "    </tr>\n",
       "    <tr>\n",
       "      <th>10090</th>\n",
       "      <td>36786</td>\n",
       "      <td>GUSEV, Denis Vladimirovich</td>\n",
       "      <td>individual</td>\n",
       "    </tr>\n",
       "    <tr>\n",
       "      <th>9601</th>\n",
       "      <td>35584</td>\n",
       "      <td>VORONOVSKIY, Anatoliy</td>\n",
       "      <td>individual</td>\n",
       "    </tr>\n",
       "    <tr>\n",
       "      <th>7097</th>\n",
       "      <td>26923</td>\n",
       "      <td>PORRAS CORTES, Gustavo Eduardo</td>\n",
       "      <td>individual</td>\n",
       "    </tr>\n",
       "    <tr>\n",
       "      <th>9713</th>\n",
       "      <td>35696</td>\n",
       "      <td>PETROV, Vyacheslav Anatolyevich</td>\n",
       "      <td>individual</td>\n",
       "    </tr>\n",
       "    <tr>\n",
       "      <th>640</th>\n",
       "      <td>7868</td>\n",
       "      <td>AL-TIKRITI, Walid Hamid Tawfiq</td>\n",
       "      <td>individual</td>\n",
       "    </tr>\n",
       "    <tr>\n",
       "      <th>2228</th>\n",
       "      <td>12177</td>\n",
       "      <td>URREA LENIS, Jair Fernando</td>\n",
       "      <td>individual</td>\n",
       "    </tr>\n",
       "  </tbody>\n",
       "</table>\n",
       "</div>"
      ],
      "text/plain": [
       "         uid                                  name entity_type\n",
       "318     7252  BEN ATTIA, Nabil Ben Mohamed Ben Ali  individual\n",
       "7333   27474                           MAO, Yu Hua  individual\n",
       "7936   29805                      MOSTAFAEI, Saeed  individual\n",
       "6171   25100            SARRIA DIAZ, Edgar Alberto  individual\n",
       "10090  36786            GUSEV, Denis Vladimirovich  individual\n",
       "9601   35584                 VORONOVSKIY, Anatoliy  individual\n",
       "7097   26923        PORRAS CORTES, Gustavo Eduardo  individual\n",
       "9713   35696       PETROV, Vyacheslav Anatolyevich  individual\n",
       "640     7868        AL-TIKRITI, Walid Hamid Tawfiq  individual\n",
       "2228   12177            URREA LENIS, Jair Fernando  individual"
      ]
     },
     "execution_count": 6,
     "metadata": {},
     "output_type": "execute_result"
    }
   ],
   "source": [
    "while True:\n",
    "    ofac_list_sampled = ofac_list_filtered.sample(n = 10)\n",
    "    cnt = [0] * 10\n",
    "    for ind, name in enumerate(ofac_list_sampled['name']):\n",
    "        split_name = name.upper().split(' ')\n",
    "        \n",
    "        if all(i in alphabet() for i in list(split_name[0][:1])) & (len(split_name[0]) > 1) & (len(' '.join(split_name)) > 10):\n",
    "            cnt[ind] += 1\n",
    "\n",
    "    if all(i == 1 for i in cnt):\n",
    "        break\n",
    "\n",
    "ofac_list_sampled"
   ]
  },
  {
   "cell_type": "markdown",
   "id": "58f19a68",
   "metadata": {},
   "source": [
    "# CREATE THE TEST CASES"
   ]
  },
  {
   "cell_type": "markdown",
   "id": "41205b68",
   "metadata": {},
   "source": [
    "## create blank final test cases table"
   ]
  },
  {
   "cell_type": "code",
   "execution_count": 7,
   "id": "c72219d5",
   "metadata": {},
   "outputs": [
    {
     "data": {
      "text/html": [
       "<div>\n",
       "<style scoped>\n",
       "    .dataframe tbody tr th:only-of-type {\n",
       "        vertical-align: middle;\n",
       "    }\n",
       "\n",
       "    .dataframe tbody tr th {\n",
       "        vertical-align: top;\n",
       "    }\n",
       "\n",
       "    .dataframe thead th {\n",
       "        text-align: right;\n",
       "    }\n",
       "</style>\n",
       "<table border=\"1\" class=\"dataframe\">\n",
       "  <thead>\n",
       "    <tr style=\"text-align: right;\">\n",
       "      <th></th>\n",
       "      <th>UID</th>\n",
       "      <th>Theme</th>\n",
       "      <th>Category</th>\n",
       "      <th>Sub-category</th>\n",
       "      <th>Entity-Type</th>\n",
       "      <th>Test Case ID</th>\n",
       "      <th>OFAC List UID</th>\n",
       "      <th>Original Name</th>\n",
       "      <th>Test Case Name</th>\n",
       "    </tr>\n",
       "  </thead>\n",
       "  <tbody>\n",
       "  </tbody>\n",
       "</table>\n",
       "</div>"
      ],
      "text/plain": [
       "Empty DataFrame\n",
       "Columns: [UID, Theme, Category, Sub-category, Entity-Type, Test Case ID, OFAC List UID, Original Name, Test Case Name]\n",
       "Index: []"
      ]
     },
     "execution_count": 7,
     "metadata": {},
     "output_type": "execute_result"
    }
   ],
   "source": [
    "final_test_cases = pd.DataFrame(columns=['UID', 'Theme','Category','Sub-category','Entity-Type','Test Case ID' , 'OFAC List UID', 'Original Name','Test Case Name'])\n",
    "final_test_cases"
   ]
  },
  {
   "cell_type": "markdown",
   "id": "e8949bbd",
   "metadata": {},
   "source": [
    "## run loop to generate the test cases"
   ]
  },
  {
   "cell_type": "code",
   "execution_count": 8,
   "id": "f18b6995",
   "metadata": {},
   "outputs": [
    {
     "data": {
      "text/html": [
       "<div>\n",
       "<style scoped>\n",
       "    .dataframe tbody tr th:only-of-type {\n",
       "        vertical-align: middle;\n",
       "    }\n",
       "\n",
       "    .dataframe tbody tr th {\n",
       "        vertical-align: top;\n",
       "    }\n",
       "\n",
       "    .dataframe thead th {\n",
       "        text-align: right;\n",
       "    }\n",
       "</style>\n",
       "<table border=\"1\" class=\"dataframe\">\n",
       "  <thead>\n",
       "    <tr style=\"text-align: right;\">\n",
       "      <th></th>\n",
       "      <th>UID</th>\n",
       "      <th>Theme</th>\n",
       "      <th>Category</th>\n",
       "      <th>Sub-category</th>\n",
       "      <th>Entity-Type</th>\n",
       "      <th>Test Case ID</th>\n",
       "      <th>OFAC List UID</th>\n",
       "      <th>Original Name</th>\n",
       "      <th>Test Case Name</th>\n",
       "    </tr>\n",
       "  </thead>\n",
       "  <tbody>\n",
       "    <tr>\n",
       "      <th>0</th>\n",
       "      <td>UID-303</td>\n",
       "      <td>Names where name parts are Modified</td>\n",
       "      <td>Typos</td>\n",
       "      <td>1 Typo - first letter</td>\n",
       "      <td>Individual</td>\n",
       "      <td>UID-303 - 318</td>\n",
       "      <td>7252</td>\n",
       "      <td>BEN ATTIA, Nabil Ben Mohamed Ben Ali</td>\n",
       "      <td>LEN ATTIA, NABIL BEN MOHAMED BEN ALI</td>\n",
       "    </tr>\n",
       "    <tr>\n",
       "      <th>1</th>\n",
       "      <td>UID-303</td>\n",
       "      <td>Names where name parts are Modified</td>\n",
       "      <td>Typos</td>\n",
       "      <td>1 Typo - first letter</td>\n",
       "      <td>Individual</td>\n",
       "      <td>UID-303 - 7333</td>\n",
       "      <td>27474</td>\n",
       "      <td>MAO, Yu Hua</td>\n",
       "      <td>ZAO, YU HUA</td>\n",
       "    </tr>\n",
       "    <tr>\n",
       "      <th>2</th>\n",
       "      <td>UID-303</td>\n",
       "      <td>Names where name parts are Modified</td>\n",
       "      <td>Typos</td>\n",
       "      <td>1 Typo - first letter</td>\n",
       "      <td>Individual</td>\n",
       "      <td>UID-303 - 7936</td>\n",
       "      <td>29805</td>\n",
       "      <td>MOSTAFAEI, Saeed</td>\n",
       "      <td>HOSTAFAEI, SAEED</td>\n",
       "    </tr>\n",
       "    <tr>\n",
       "      <th>3</th>\n",
       "      <td>UID-303</td>\n",
       "      <td>Names where name parts are Modified</td>\n",
       "      <td>Typos</td>\n",
       "      <td>1 Typo - first letter</td>\n",
       "      <td>Individual</td>\n",
       "      <td>UID-303 - 6171</td>\n",
       "      <td>25100</td>\n",
       "      <td>SARRIA DIAZ, Edgar Alberto</td>\n",
       "      <td>OARRIA DIAZ, EDGAR ALBERTO</td>\n",
       "    </tr>\n",
       "    <tr>\n",
       "      <th>4</th>\n",
       "      <td>UID-303</td>\n",
       "      <td>Names where name parts are Modified</td>\n",
       "      <td>Typos</td>\n",
       "      <td>1 Typo - first letter</td>\n",
       "      <td>Individual</td>\n",
       "      <td>UID-303 - 10090</td>\n",
       "      <td>36786</td>\n",
       "      <td>GUSEV, Denis Vladimirovich</td>\n",
       "      <td>PUSEV, DENIS VLADIMIROVICH</td>\n",
       "    </tr>\n",
       "    <tr>\n",
       "      <th>5</th>\n",
       "      <td>UID-303</td>\n",
       "      <td>Names where name parts are Modified</td>\n",
       "      <td>Typos</td>\n",
       "      <td>1 Typo - first letter</td>\n",
       "      <td>Individual</td>\n",
       "      <td>UID-303 - 9601</td>\n",
       "      <td>35584</td>\n",
       "      <td>VORONOVSKIY, Anatoliy</td>\n",
       "      <td>NORONOVSKIY, ANATOLIY</td>\n",
       "    </tr>\n",
       "    <tr>\n",
       "      <th>6</th>\n",
       "      <td>UID-303</td>\n",
       "      <td>Names where name parts are Modified</td>\n",
       "      <td>Typos</td>\n",
       "      <td>1 Typo - first letter</td>\n",
       "      <td>Individual</td>\n",
       "      <td>UID-303 - 7097</td>\n",
       "      <td>26923</td>\n",
       "      <td>PORRAS CORTES, Gustavo Eduardo</td>\n",
       "      <td>EORRAS CORTES, GUSTAVO EDUARDO</td>\n",
       "    </tr>\n",
       "    <tr>\n",
       "      <th>7</th>\n",
       "      <td>UID-303</td>\n",
       "      <td>Names where name parts are Modified</td>\n",
       "      <td>Typos</td>\n",
       "      <td>1 Typo - first letter</td>\n",
       "      <td>Individual</td>\n",
       "      <td>UID-303 - 9713</td>\n",
       "      <td>35696</td>\n",
       "      <td>PETROV, Vyacheslav Anatolyevich</td>\n",
       "      <td>EETROV, VYACHESLAV ANATOLYEVICH</td>\n",
       "    </tr>\n",
       "    <tr>\n",
       "      <th>8</th>\n",
       "      <td>UID-303</td>\n",
       "      <td>Names where name parts are Modified</td>\n",
       "      <td>Typos</td>\n",
       "      <td>1 Typo - first letter</td>\n",
       "      <td>Individual</td>\n",
       "      <td>UID-303 - 640</td>\n",
       "      <td>7868</td>\n",
       "      <td>AL-TIKRITI, Walid Hamid Tawfiq</td>\n",
       "      <td>LL-TIKRITI, WALID HAMID TAWFIQ</td>\n",
       "    </tr>\n",
       "    <tr>\n",
       "      <th>9</th>\n",
       "      <td>UID-303</td>\n",
       "      <td>Names where name parts are Modified</td>\n",
       "      <td>Typos</td>\n",
       "      <td>1 Typo - first letter</td>\n",
       "      <td>Individual</td>\n",
       "      <td>UID-303 - 2228</td>\n",
       "      <td>12177</td>\n",
       "      <td>URREA LENIS, Jair Fernando</td>\n",
       "      <td>XRREA LENIS, JAIR FERNANDO</td>\n",
       "    </tr>\n",
       "  </tbody>\n",
       "</table>\n",
       "</div>"
      ],
      "text/plain": [
       "       UID                                Theme Category  \\\n",
       "0  UID-303  Names where name parts are Modified    Typos   \n",
       "1  UID-303  Names where name parts are Modified    Typos   \n",
       "2  UID-303  Names where name parts are Modified    Typos   \n",
       "3  UID-303  Names where name parts are Modified    Typos   \n",
       "4  UID-303  Names where name parts are Modified    Typos   \n",
       "5  UID-303  Names where name parts are Modified    Typos   \n",
       "6  UID-303  Names where name parts are Modified    Typos   \n",
       "7  UID-303  Names where name parts are Modified    Typos   \n",
       "8  UID-303  Names where name parts are Modified    Typos   \n",
       "9  UID-303  Names where name parts are Modified    Typos   \n",
       "\n",
       "            Sub-category Entity-Type     Test Case ID OFAC List UID  \\\n",
       "0  1 Typo - first letter  Individual    UID-303 - 318          7252   \n",
       "1  1 Typo - first letter  Individual   UID-303 - 7333         27474   \n",
       "2  1 Typo - first letter  Individual   UID-303 - 7936         29805   \n",
       "3  1 Typo - first letter  Individual   UID-303 - 6171         25100   \n",
       "4  1 Typo - first letter  Individual  UID-303 - 10090         36786   \n",
       "5  1 Typo - first letter  Individual   UID-303 - 9601         35584   \n",
       "6  1 Typo - first letter  Individual   UID-303 - 7097         26923   \n",
       "7  1 Typo - first letter  Individual   UID-303 - 9713         35696   \n",
       "8  1 Typo - first letter  Individual    UID-303 - 640          7868   \n",
       "9  1 Typo - first letter  Individual   UID-303 - 2228         12177   \n",
       "\n",
       "                          Original Name                        Test Case Name  \n",
       "0  BEN ATTIA, Nabil Ben Mohamed Ben Ali  LEN ATTIA, NABIL BEN MOHAMED BEN ALI  \n",
       "1                           MAO, Yu Hua                           ZAO, YU HUA  \n",
       "2                      MOSTAFAEI, Saeed                      HOSTAFAEI, SAEED  \n",
       "3            SARRIA DIAZ, Edgar Alberto            OARRIA DIAZ, EDGAR ALBERTO  \n",
       "4            GUSEV, Denis Vladimirovich            PUSEV, DENIS VLADIMIROVICH  \n",
       "5                 VORONOVSKIY, Anatoliy                 NORONOVSKIY, ANATOLIY  \n",
       "6        PORRAS CORTES, Gustavo Eduardo        EORRAS CORTES, GUSTAVO EDUARDO  \n",
       "7       PETROV, Vyacheslav Anatolyevich       EETROV, VYACHESLAV ANATOLYEVICH  \n",
       "8        AL-TIKRITI, Walid Hamid Tawfiq        LL-TIKRITI, WALID HAMID TAWFIQ  \n",
       "9            URREA LENIS, Jair Fernando            XRREA LENIS, JAIR FERNANDO  "
      ]
     },
     "execution_count": 8,
     "metadata": {},
     "output_type": "execute_result"
    }
   ],
   "source": [
    "for index, row in ofac_list_sampled.iterrows():\n",
    "    original_name = row['name'].upper()\n",
    "    original_name_list = list(original_name) # transfer name string into letter list\n",
    "    \n",
    "    while original_name_list[0] == original_name[0]: # rerandom if no letter has been replaced\n",
    "        original_name_list[0] = rand_letter() # replace letter\n",
    "\n",
    "    final_test_name = ''.join(original_name_list)\n",
    "    \n",
    "    final_test_cases.loc[len(final_test_cases)] = [uid, theme, category, sub_category, entity_type, uid + ' - ' + str(index), row['uid'], row['name'], final_test_name] # append to the dataframe\n",
    "\n",
    "final_test_cases"
   ]
  }
 ],
 "metadata": {
  "kernelspec": {
   "display_name": "Python 3 (ipykernel)",
   "language": "python",
   "name": "python3"
  },
  "language_info": {
   "codemirror_mode": {
    "name": "ipython",
    "version": 3
   },
   "file_extension": ".py",
   "mimetype": "text/x-python",
   "name": "python",
   "nbconvert_exporter": "python",
   "pygments_lexer": "ipython3",
   "version": "3.8.8"
  }
 },
 "nbformat": 4,
 "nbformat_minor": 5
}
