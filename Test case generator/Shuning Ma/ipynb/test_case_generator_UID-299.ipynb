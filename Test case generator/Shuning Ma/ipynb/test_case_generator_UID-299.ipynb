{
 "cells": [
  {
   "cell_type": "markdown",
   "id": "e587297b",
   "metadata": {},
   "source": [
    "# IMPORT DATA, PACKAGES, AND FUNCTIONS"
   ]
  },
  {
   "cell_type": "markdown",
   "id": "2bf79a81",
   "metadata": {},
   "source": [
    "## import the relevant functions and packages"
   ]
  },
  {
   "cell_type": "code",
   "execution_count": 1,
   "id": "000435e8",
   "metadata": {},
   "outputs": [],
   "source": [
    "import pandas as pd\n",
    "import numpy as np\n",
    "from test_case_generator_functions import alphabet, rand_letter"
   ]
  },
  {
   "cell_type": "markdown",
   "id": "f63740d7",
   "metadata": {},
   "source": [
    "# TEST CASE TYPE REFERENCE INFORMATION"
   ]
  },
  {
   "cell_type": "code",
   "execution_count": 2,
   "id": "4b3f7972",
   "metadata": {},
   "outputs": [],
   "source": [
    "uid = 'UID-299' \n",
    "theme = 'Names where name parts are Modified'\n",
    "category = 'Typos'\n",
    "sub_category = '1 Typo - any letter'\n",
    "entity_type = 'Entity'"
   ]
  },
  {
   "cell_type": "markdown",
   "id": "8aeeb278",
   "metadata": {},
   "source": [
    "## download the OFAC list from the web"
   ]
  },
  {
   "cell_type": "code",
   "execution_count": 3,
   "id": "a27d14e3",
   "metadata": {},
   "outputs": [],
   "source": [
    "ofac_list_download = pd.read_csv('https://www.treasury.gov/ofac/downloads/sdn.csv', header=None)"
   ]
  },
  {
   "cell_type": "code",
   "execution_count": 4,
   "id": "e7436dad",
   "metadata": {},
   "outputs": [],
   "source": [
    "ofac_list = ofac_list_download[[0,1,2]]\n",
    "ofac_list.columns = ['uid', 'name', 'entity_type']"
   ]
  },
  {
   "cell_type": "markdown",
   "id": "401067db",
   "metadata": {},
   "source": [
    "# FILTER FOR THE REQUIREMENTS OF THE TEST CASE TYPE"
   ]
  },
  {
   "cell_type": "markdown",
   "id": "f486eee5",
   "metadata": {},
   "source": [
    "## filter for the requirements of the specific test case type"
   ]
  },
  {
   "cell_type": "code",
   "execution_count": 5,
   "id": "01588e99",
   "metadata": {},
   "outputs": [],
   "source": [
    "ofac_list_filtered = ofac_list[(ofac_list.entity_type == '-0- ')] # only evaluate entities"
   ]
  },
  {
   "cell_type": "markdown",
   "id": "d5b2e9b2",
   "metadata": {},
   "source": [
    "## randomly choose 10 rows"
   ]
  },
  {
   "cell_type": "code",
   "execution_count": 6,
   "id": "edc174eb",
   "metadata": {},
   "outputs": [
    {
     "data": {
      "text/html": [
       "<div>\n",
       "<style scoped>\n",
       "    .dataframe tbody tr th:only-of-type {\n",
       "        vertical-align: middle;\n",
       "    }\n",
       "\n",
       "    .dataframe tbody tr th {\n",
       "        vertical-align: top;\n",
       "    }\n",
       "\n",
       "    .dataframe thead th {\n",
       "        text-align: right;\n",
       "    }\n",
       "</style>\n",
       "<table border=\"1\" class=\"dataframe\">\n",
       "  <thead>\n",
       "    <tr style=\"text-align: right;\">\n",
       "      <th></th>\n",
       "      <th>uid</th>\n",
       "      <th>name</th>\n",
       "      <th>entity_type</th>\n",
       "    </tr>\n",
       "  </thead>\n",
       "  <tbody>\n",
       "    <tr>\n",
       "      <th>5296</th>\n",
       "      <td>22606</td>\n",
       "      <td>VELMUR MANAGEMENT PTE LTD</td>\n",
       "      <td>-0-</td>\n",
       "    </tr>\n",
       "    <tr>\n",
       "      <th>5944</th>\n",
       "      <td>24396</td>\n",
       "      <td>OTIK AVIATION</td>\n",
       "      <td>-0-</td>\n",
       "    </tr>\n",
       "    <tr>\n",
       "      <th>8298</th>\n",
       "      <td>30761</td>\n",
       "      <td>ZARAND IRANIAN STEEL COMPANY</td>\n",
       "      <td>-0-</td>\n",
       "    </tr>\n",
       "    <tr>\n",
       "      <th>4161</th>\n",
       "      <td>18714</td>\n",
       "      <td>OPEN JOINT STOCK COMPANY BPS-SBERBANK</td>\n",
       "      <td>-0-</td>\n",
       "    </tr>\n",
       "    <tr>\n",
       "      <th>2069</th>\n",
       "      <td>11856</td>\n",
       "      <td>INVERSIONES GANAGRO LTDA.</td>\n",
       "      <td>-0-</td>\n",
       "    </tr>\n",
       "    <tr>\n",
       "      <th>8049</th>\n",
       "      <td>30142</td>\n",
       "      <td>MORVARID PETROCHEMICAL</td>\n",
       "      <td>-0-</td>\n",
       "    </tr>\n",
       "    <tr>\n",
       "      <th>10446</th>\n",
       "      <td>37426</td>\n",
       "      <td>FOCUS MEDIA COMPANY SAL OFFSHORE</td>\n",
       "      <td>-0-</td>\n",
       "    </tr>\n",
       "    <tr>\n",
       "      <th>4835</th>\n",
       "      <td>21343</td>\n",
       "      <td>MAIN INTELLIGENCE DIRECTORATE</td>\n",
       "      <td>-0-</td>\n",
       "    </tr>\n",
       "    <tr>\n",
       "      <th>9802</th>\n",
       "      <td>35872</td>\n",
       "      <td>JOINT STOCK COMPANY STATE MACHINE BUILDING DES...</td>\n",
       "      <td>-0-</td>\n",
       "    </tr>\n",
       "    <tr>\n",
       "      <th>10029</th>\n",
       "      <td>36458</td>\n",
       "      <td>OOO BITRIVER RUS</td>\n",
       "      <td>-0-</td>\n",
       "    </tr>\n",
       "  </tbody>\n",
       "</table>\n",
       "</div>"
      ],
      "text/plain": [
       "         uid                                               name entity_type\n",
       "5296   22606                          VELMUR MANAGEMENT PTE LTD        -0- \n",
       "5944   24396                                      OTIK AVIATION        -0- \n",
       "8298   30761                       ZARAND IRANIAN STEEL COMPANY        -0- \n",
       "4161   18714              OPEN JOINT STOCK COMPANY BPS-SBERBANK        -0- \n",
       "2069   11856                          INVERSIONES GANAGRO LTDA.        -0- \n",
       "8049   30142                             MORVARID PETROCHEMICAL        -0- \n",
       "10446  37426                   FOCUS MEDIA COMPANY SAL OFFSHORE        -0- \n",
       "4835   21343                      MAIN INTELLIGENCE DIRECTORATE        -0- \n",
       "9802   35872  JOINT STOCK COMPANY STATE MACHINE BUILDING DES...        -0- \n",
       "10029  36458                                   OOO BITRIVER RUS        -0- "
      ]
     },
     "execution_count": 6,
     "metadata": {},
     "output_type": "execute_result"
    }
   ],
   "source": [
    "ofac_list_sampled = ofac_list_filtered.sample(n = 10)\n",
    "ofac_list_sampled"
   ]
  },
  {
   "cell_type": "markdown",
   "id": "58f19a68",
   "metadata": {},
   "source": [
    "# CREATE THE TEST CASES"
   ]
  },
  {
   "cell_type": "markdown",
   "id": "41205b68",
   "metadata": {},
   "source": [
    "## create blank final test cases table"
   ]
  },
  {
   "cell_type": "code",
   "execution_count": 7,
   "id": "c72219d5",
   "metadata": {},
   "outputs": [
    {
     "data": {
      "text/html": [
       "<div>\n",
       "<style scoped>\n",
       "    .dataframe tbody tr th:only-of-type {\n",
       "        vertical-align: middle;\n",
       "    }\n",
       "\n",
       "    .dataframe tbody tr th {\n",
       "        vertical-align: top;\n",
       "    }\n",
       "\n",
       "    .dataframe thead th {\n",
       "        text-align: right;\n",
       "    }\n",
       "</style>\n",
       "<table border=\"1\" class=\"dataframe\">\n",
       "  <thead>\n",
       "    <tr style=\"text-align: right;\">\n",
       "      <th></th>\n",
       "      <th>UID</th>\n",
       "      <th>Theme</th>\n",
       "      <th>Category</th>\n",
       "      <th>Sub-category</th>\n",
       "      <th>Entity-Type</th>\n",
       "      <th>Test Case ID</th>\n",
       "      <th>OFAC List UID</th>\n",
       "      <th>Original Name</th>\n",
       "      <th>Test Case Name</th>\n",
       "    </tr>\n",
       "  </thead>\n",
       "  <tbody>\n",
       "  </tbody>\n",
       "</table>\n",
       "</div>"
      ],
      "text/plain": [
       "Empty DataFrame\n",
       "Columns: [UID, Theme, Category, Sub-category, Entity-Type, Test Case ID, OFAC List UID, Original Name, Test Case Name]\n",
       "Index: []"
      ]
     },
     "execution_count": 7,
     "metadata": {},
     "output_type": "execute_result"
    }
   ],
   "source": [
    "final_test_cases = pd.DataFrame(columns=['UID', 'Theme','Category','Sub-category','Entity-Type','Test Case ID' , 'OFAC List UID', 'Original Name','Test Case Name'])\n",
    "final_test_cases"
   ]
  },
  {
   "cell_type": "markdown",
   "id": "e8949bbd",
   "metadata": {},
   "source": [
    "## run loop to generate the test cases"
   ]
  },
  {
   "cell_type": "code",
   "execution_count": 8,
   "id": "f18b6995",
   "metadata": {},
   "outputs": [
    {
     "data": {
      "text/html": [
       "<div>\n",
       "<style scoped>\n",
       "    .dataframe tbody tr th:only-of-type {\n",
       "        vertical-align: middle;\n",
       "    }\n",
       "\n",
       "    .dataframe tbody tr th {\n",
       "        vertical-align: top;\n",
       "    }\n",
       "\n",
       "    .dataframe thead th {\n",
       "        text-align: right;\n",
       "    }\n",
       "</style>\n",
       "<table border=\"1\" class=\"dataframe\">\n",
       "  <thead>\n",
       "    <tr style=\"text-align: right;\">\n",
       "      <th></th>\n",
       "      <th>UID</th>\n",
       "      <th>Theme</th>\n",
       "      <th>Category</th>\n",
       "      <th>Sub-category</th>\n",
       "      <th>Entity-Type</th>\n",
       "      <th>Test Case ID</th>\n",
       "      <th>OFAC List UID</th>\n",
       "      <th>Original Name</th>\n",
       "      <th>Test Case Name</th>\n",
       "    </tr>\n",
       "  </thead>\n",
       "  <tbody>\n",
       "    <tr>\n",
       "      <th>0</th>\n",
       "      <td>UID-299</td>\n",
       "      <td>Names where name parts are Modified</td>\n",
       "      <td>Typos</td>\n",
       "      <td>1 Typo - any letter</td>\n",
       "      <td>Entity</td>\n",
       "      <td>UID-299 - 5296</td>\n",
       "      <td>22606</td>\n",
       "      <td>VELMUR MANAGEMENT PTE LTD</td>\n",
       "      <td>VELMUR MANAOEMENT PTE LTD</td>\n",
       "    </tr>\n",
       "    <tr>\n",
       "      <th>1</th>\n",
       "      <td>UID-299</td>\n",
       "      <td>Names where name parts are Modified</td>\n",
       "      <td>Typos</td>\n",
       "      <td>1 Typo - any letter</td>\n",
       "      <td>Entity</td>\n",
       "      <td>UID-299 - 5944</td>\n",
       "      <td>24396</td>\n",
       "      <td>OTIK AVIATION</td>\n",
       "      <td>OTIK DVIATION</td>\n",
       "    </tr>\n",
       "    <tr>\n",
       "      <th>2</th>\n",
       "      <td>UID-299</td>\n",
       "      <td>Names where name parts are Modified</td>\n",
       "      <td>Typos</td>\n",
       "      <td>1 Typo - any letter</td>\n",
       "      <td>Entity</td>\n",
       "      <td>UID-299 - 8298</td>\n",
       "      <td>30761</td>\n",
       "      <td>ZARAND IRANIAN STEEL COMPANY</td>\n",
       "      <td>ZARGND IRANIAN STEEL COMPANY</td>\n",
       "    </tr>\n",
       "    <tr>\n",
       "      <th>3</th>\n",
       "      <td>UID-299</td>\n",
       "      <td>Names where name parts are Modified</td>\n",
       "      <td>Typos</td>\n",
       "      <td>1 Typo - any letter</td>\n",
       "      <td>Entity</td>\n",
       "      <td>UID-299 - 4161</td>\n",
       "      <td>18714</td>\n",
       "      <td>OPEN JOINT STOCK COMPANY BPS-SBERBANK</td>\n",
       "      <td>OPEN VOINT STOCK COMPANY BPS-SBERBANK</td>\n",
       "    </tr>\n",
       "    <tr>\n",
       "      <th>4</th>\n",
       "      <td>UID-299</td>\n",
       "      <td>Names where name parts are Modified</td>\n",
       "      <td>Typos</td>\n",
       "      <td>1 Typo - any letter</td>\n",
       "      <td>Entity</td>\n",
       "      <td>UID-299 - 2069</td>\n",
       "      <td>11856</td>\n",
       "      <td>INVERSIONES GANAGRO LTDA.</td>\n",
       "      <td>INVERSIONES GANAGRO PTDA.</td>\n",
       "    </tr>\n",
       "    <tr>\n",
       "      <th>5</th>\n",
       "      <td>UID-299</td>\n",
       "      <td>Names where name parts are Modified</td>\n",
       "      <td>Typos</td>\n",
       "      <td>1 Typo - any letter</td>\n",
       "      <td>Entity</td>\n",
       "      <td>UID-299 - 8049</td>\n",
       "      <td>30142</td>\n",
       "      <td>MORVARID PETROCHEMICAL</td>\n",
       "      <td>MORVARID PETROCHQMICAL</td>\n",
       "    </tr>\n",
       "    <tr>\n",
       "      <th>6</th>\n",
       "      <td>UID-299</td>\n",
       "      <td>Names where name parts are Modified</td>\n",
       "      <td>Typos</td>\n",
       "      <td>1 Typo - any letter</td>\n",
       "      <td>Entity</td>\n",
       "      <td>UID-299 - 10446</td>\n",
       "      <td>37426</td>\n",
       "      <td>FOCUS MEDIA COMPANY SAL OFFSHORE</td>\n",
       "      <td>FOCUS MEDIH COMPANY SAL OFFSHORE</td>\n",
       "    </tr>\n",
       "    <tr>\n",
       "      <th>7</th>\n",
       "      <td>UID-299</td>\n",
       "      <td>Names where name parts are Modified</td>\n",
       "      <td>Typos</td>\n",
       "      <td>1 Typo - any letter</td>\n",
       "      <td>Entity</td>\n",
       "      <td>UID-299 - 4835</td>\n",
       "      <td>21343</td>\n",
       "      <td>MAIN INTELLIGENCE DIRECTORATE</td>\n",
       "      <td>MAIN INTELLIGENCE DIOECTORATE</td>\n",
       "    </tr>\n",
       "    <tr>\n",
       "      <th>8</th>\n",
       "      <td>UID-299</td>\n",
       "      <td>Names where name parts are Modified</td>\n",
       "      <td>Typos</td>\n",
       "      <td>1 Typo - any letter</td>\n",
       "      <td>Entity</td>\n",
       "      <td>UID-299 - 9802</td>\n",
       "      <td>35872</td>\n",
       "      <td>JOINT STOCK COMPANY STATE MACHINE BUILDING DES...</td>\n",
       "      <td>JOINT STOCK COMPANY STATE MACHINE BUISDING DES...</td>\n",
       "    </tr>\n",
       "    <tr>\n",
       "      <th>9</th>\n",
       "      <td>UID-299</td>\n",
       "      <td>Names where name parts are Modified</td>\n",
       "      <td>Typos</td>\n",
       "      <td>1 Typo - any letter</td>\n",
       "      <td>Entity</td>\n",
       "      <td>UID-299 - 10029</td>\n",
       "      <td>36458</td>\n",
       "      <td>OOO BITRIVER RUS</td>\n",
       "      <td>OOO BITRIVER RWS</td>\n",
       "    </tr>\n",
       "  </tbody>\n",
       "</table>\n",
       "</div>"
      ],
      "text/plain": [
       "       UID                                Theme Category         Sub-category  \\\n",
       "0  UID-299  Names where name parts are Modified    Typos  1 Typo - any letter   \n",
       "1  UID-299  Names where name parts are Modified    Typos  1 Typo - any letter   \n",
       "2  UID-299  Names where name parts are Modified    Typos  1 Typo - any letter   \n",
       "3  UID-299  Names where name parts are Modified    Typos  1 Typo - any letter   \n",
       "4  UID-299  Names where name parts are Modified    Typos  1 Typo - any letter   \n",
       "5  UID-299  Names where name parts are Modified    Typos  1 Typo - any letter   \n",
       "6  UID-299  Names where name parts are Modified    Typos  1 Typo - any letter   \n",
       "7  UID-299  Names where name parts are Modified    Typos  1 Typo - any letter   \n",
       "8  UID-299  Names where name parts are Modified    Typos  1 Typo - any letter   \n",
       "9  UID-299  Names where name parts are Modified    Typos  1 Typo - any letter   \n",
       "\n",
       "  Entity-Type     Test Case ID OFAC List UID  \\\n",
       "0      Entity   UID-299 - 5296         22606   \n",
       "1      Entity   UID-299 - 5944         24396   \n",
       "2      Entity   UID-299 - 8298         30761   \n",
       "3      Entity   UID-299 - 4161         18714   \n",
       "4      Entity   UID-299 - 2069         11856   \n",
       "5      Entity   UID-299 - 8049         30142   \n",
       "6      Entity  UID-299 - 10446         37426   \n",
       "7      Entity   UID-299 - 4835         21343   \n",
       "8      Entity   UID-299 - 9802         35872   \n",
       "9      Entity  UID-299 - 10029         36458   \n",
       "\n",
       "                                       Original Name  \\\n",
       "0                          VELMUR MANAGEMENT PTE LTD   \n",
       "1                                      OTIK AVIATION   \n",
       "2                       ZARAND IRANIAN STEEL COMPANY   \n",
       "3              OPEN JOINT STOCK COMPANY BPS-SBERBANK   \n",
       "4                          INVERSIONES GANAGRO LTDA.   \n",
       "5                             MORVARID PETROCHEMICAL   \n",
       "6                   FOCUS MEDIA COMPANY SAL OFFSHORE   \n",
       "7                      MAIN INTELLIGENCE DIRECTORATE   \n",
       "8  JOINT STOCK COMPANY STATE MACHINE BUILDING DES...   \n",
       "9                                   OOO BITRIVER RUS   \n",
       "\n",
       "                                      Test Case Name  \n",
       "0                          VELMUR MANAOEMENT PTE LTD  \n",
       "1                                      OTIK DVIATION  \n",
       "2                       ZARGND IRANIAN STEEL COMPANY  \n",
       "3              OPEN VOINT STOCK COMPANY BPS-SBERBANK  \n",
       "4                          INVERSIONES GANAGRO PTDA.  \n",
       "5                             MORVARID PETROCHQMICAL  \n",
       "6                   FOCUS MEDIH COMPANY SAL OFFSHORE  \n",
       "7                      MAIN INTELLIGENCE DIOECTORATE  \n",
       "8  JOINT STOCK COMPANY STATE MACHINE BUISDING DES...  \n",
       "9                                   OOO BITRIVER RWS  "
      ]
     },
     "execution_count": 8,
     "metadata": {},
     "output_type": "execute_result"
    }
   ],
   "source": [
    "for index, row in ofac_list_sampled.iterrows():\n",
    "    original_name = row['name'].upper()\n",
    "    original_name_list = list(original_name) # transfer name string into letter list\n",
    "    \n",
    "    random_index = np.random.choice(list(range(len(original_name_list)))[1:-1]) # randomly choose letter to be replaced\n",
    "    while original_name_list[random_index] not in alphabet(): # rerandom if not letter \n",
    "        random_index = np.random.choice(len(original_name_list))\n",
    "    while original_name_list[random_index] == original_name[random_index]: # rerandom if no letter has been replaced\n",
    "        original_name_list[random_index] = rand_letter() # replace letter\n",
    "\n",
    "    final_test_name = ''.join(original_name_list)\n",
    "    \n",
    "    final_test_cases.loc[len(final_test_cases)] = [uid, theme, category, sub_category, entity_type, uid + ' - ' + str(index), row['uid'], row['name'], final_test_name] # append to the dataframe\n",
    "\n",
    "final_test_cases"
   ]
  }
 ],
 "metadata": {
  "kernelspec": {
   "display_name": "Python 3 (ipykernel)",
   "language": "python",
   "name": "python3"
  },
  "language_info": {
   "codemirror_mode": {
    "name": "ipython",
    "version": 3
   },
   "file_extension": ".py",
   "mimetype": "text/x-python",
   "name": "python",
   "nbconvert_exporter": "python",
   "pygments_lexer": "ipython3",
   "version": "3.8.8"
  }
 },
 "nbformat": 4,
 "nbformat_minor": 5
}
