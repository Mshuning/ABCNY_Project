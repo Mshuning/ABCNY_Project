{
 "cells": [
  {
   "cell_type": "markdown",
   "id": "e587297b",
   "metadata": {},
   "source": [
    "# IMPORT DATA, PACKAGES, AND FUNCTIONS"
   ]
  },
  {
   "cell_type": "markdown",
   "id": "2bf79a81",
   "metadata": {},
   "source": [
    "## import the relevant functions and packages"
   ]
  },
  {
   "cell_type": "code",
   "execution_count": 1,
   "id": "000435e8",
   "metadata": {},
   "outputs": [],
   "source": [
    "import pandas as pd\n",
    "import numpy as np\n",
    "from test_case_generator_functions import alphabet"
   ]
  },
  {
   "cell_type": "markdown",
   "id": "f63740d7",
   "metadata": {},
   "source": [
    "# TEST CASE TYPE REFERENCE INFORMATION"
   ]
  },
  {
   "cell_type": "code",
   "execution_count": 2,
   "id": "4b3f7972",
   "metadata": {},
   "outputs": [],
   "source": [
    "uid = 'UID-275' \n",
    "theme = 'Names where name parts are Modified'\n",
    "category = 'Truncation'\n",
    "sub_category = '1 Letter Truncation in the end'\n",
    "entity_type = 'Individual'"
   ]
  },
  {
   "cell_type": "markdown",
   "id": "8aeeb278",
   "metadata": {},
   "source": [
    "## download the OFAC list from the web"
   ]
  },
  {
   "cell_type": "code",
   "execution_count": 3,
   "id": "a27d14e3",
   "metadata": {},
   "outputs": [],
   "source": [
    "ofac_list_download = pd.read_csv('https://www.treasury.gov/ofac/downloads/sdn.csv', header=None)"
   ]
  },
  {
   "cell_type": "code",
   "execution_count": 4,
   "id": "e7436dad",
   "metadata": {},
   "outputs": [],
   "source": [
    "ofac_list = ofac_list_download[[0,1,2]]\n",
    "ofac_list.columns = ['uid', 'name', 'entity_type']"
   ]
  },
  {
   "cell_type": "markdown",
   "id": "401067db",
   "metadata": {},
   "source": [
    "# FILTER FOR THE REQUIREMENTS OF THE TEST CASE TYPE"
   ]
  },
  {
   "cell_type": "markdown",
   "id": "f486eee5",
   "metadata": {},
   "source": [
    "## filter for the requirements of the specific test case type"
   ]
  },
  {
   "cell_type": "code",
   "execution_count": 5,
   "id": "01588e99",
   "metadata": {},
   "outputs": [],
   "source": [
    "ofac_list_filtered = ofac_list[(ofac_list.entity_type == 'individual')] # only evaluate individuals"
   ]
  },
  {
   "cell_type": "markdown",
   "id": "d5b2e9b2",
   "metadata": {},
   "source": [
    "## randomly choose 10 rows"
   ]
  },
  {
   "cell_type": "code",
   "execution_count": 6,
   "id": "edc174eb",
   "metadata": {},
   "outputs": [
    {
     "data": {
      "text/html": [
       "<div>\n",
       "<style scoped>\n",
       "    .dataframe tbody tr th:only-of-type {\n",
       "        vertical-align: middle;\n",
       "    }\n",
       "\n",
       "    .dataframe tbody tr th {\n",
       "        vertical-align: top;\n",
       "    }\n",
       "\n",
       "    .dataframe thead th {\n",
       "        text-align: right;\n",
       "    }\n",
       "</style>\n",
       "<table border=\"1\" class=\"dataframe\">\n",
       "  <thead>\n",
       "    <tr style=\"text-align: right;\">\n",
       "      <th></th>\n",
       "      <th>uid</th>\n",
       "      <th>name</th>\n",
       "      <th>entity_type</th>\n",
       "    </tr>\n",
       "  </thead>\n",
       "  <tbody>\n",
       "    <tr>\n",
       "      <th>4606</th>\n",
       "      <td>20441</td>\n",
       "      <td>JAMOUS, Hussam</td>\n",
       "      <td>individual</td>\n",
       "    </tr>\n",
       "    <tr>\n",
       "      <th>8220</th>\n",
       "      <td>30552</td>\n",
       "      <td>HASNAIN, Syed Johar</td>\n",
       "      <td>individual</td>\n",
       "    </tr>\n",
       "    <tr>\n",
       "      <th>1145</th>\n",
       "      <td>9491</td>\n",
       "      <td>SHAMU, Webster Kotiwani</td>\n",
       "      <td>individual</td>\n",
       "    </tr>\n",
       "    <tr>\n",
       "      <th>4559</th>\n",
       "      <td>20251</td>\n",
       "      <td>LOPEZ BELLO, Samark Jose</td>\n",
       "      <td>individual</td>\n",
       "    </tr>\n",
       "    <tr>\n",
       "      <th>4256</th>\n",
       "      <td>19029</td>\n",
       "      <td>MURATOV, Aleksey</td>\n",
       "      <td>individual</td>\n",
       "    </tr>\n",
       "    <tr>\n",
       "      <th>3694</th>\n",
       "      <td>17024</td>\n",
       "      <td>BORODAY, Alexander Yuryevich</td>\n",
       "      <td>individual</td>\n",
       "    </tr>\n",
       "    <tr>\n",
       "      <th>5937</th>\n",
       "      <td>24389</td>\n",
       "      <td>BAZZI, Mohammad Ibrahim</td>\n",
       "      <td>individual</td>\n",
       "    </tr>\n",
       "    <tr>\n",
       "      <th>809</th>\n",
       "      <td>8227</td>\n",
       "      <td>BURHAN, Dr. Sahir</td>\n",
       "      <td>individual</td>\n",
       "    </tr>\n",
       "    <tr>\n",
       "      <th>317</th>\n",
       "      <td>7251</td>\n",
       "      <td>BEN SOLTANE, Adel</td>\n",
       "      <td>individual</td>\n",
       "    </tr>\n",
       "    <tr>\n",
       "      <th>4348</th>\n",
       "      <td>19252</td>\n",
       "      <td>POURNAGHSHBAND, Hossein</td>\n",
       "      <td>individual</td>\n",
       "    </tr>\n",
       "  </tbody>\n",
       "</table>\n",
       "</div>"
      ],
      "text/plain": [
       "        uid                          name entity_type\n",
       "4606  20441                JAMOUS, Hussam  individual\n",
       "8220  30552           HASNAIN, Syed Johar  individual\n",
       "1145   9491       SHAMU, Webster Kotiwani  individual\n",
       "4559  20251      LOPEZ BELLO, Samark Jose  individual\n",
       "4256  19029              MURATOV, Aleksey  individual\n",
       "3694  17024  BORODAY, Alexander Yuryevich  individual\n",
       "5937  24389       BAZZI, Mohammad Ibrahim  individual\n",
       "809    8227             BURHAN, Dr. Sahir  individual\n",
       "317    7251             BEN SOLTANE, Adel  individual\n",
       "4348  19252       POURNAGHSHBAND, Hossein  individual"
      ]
     },
     "execution_count": 6,
     "metadata": {},
     "output_type": "execute_result"
    }
   ],
   "source": [
    "while True:\n",
    "    ofac_list_sampled = ofac_list_filtered.sample(n = 10)\n",
    "    cnt = [0] * 10\n",
    "    for ind, name in enumerate(ofac_list_sampled['name']):\n",
    "        split_name = name.upper().split(' ')\n",
    "        \n",
    "        if all(i in alphabet() for i in list(split_name[-1][-1:])) & (len(split_name[-1]) > 1) & (len(' '.join(split_name)) > 10):\n",
    "            cnt[ind] += 1\n",
    "\n",
    "    if all(i == 1 for i in cnt):\n",
    "        break\n",
    "\n",
    "ofac_list_sampled"
   ]
  },
  {
   "cell_type": "markdown",
   "id": "58f19a68",
   "metadata": {},
   "source": [
    "# CREATE THE TEST CASES"
   ]
  },
  {
   "cell_type": "markdown",
   "id": "41205b68",
   "metadata": {},
   "source": [
    "## create blank final test cases table"
   ]
  },
  {
   "cell_type": "code",
   "execution_count": 7,
   "id": "c72219d5",
   "metadata": {},
   "outputs": [
    {
     "data": {
      "text/html": [
       "<div>\n",
       "<style scoped>\n",
       "    .dataframe tbody tr th:only-of-type {\n",
       "        vertical-align: middle;\n",
       "    }\n",
       "\n",
       "    .dataframe tbody tr th {\n",
       "        vertical-align: top;\n",
       "    }\n",
       "\n",
       "    .dataframe thead th {\n",
       "        text-align: right;\n",
       "    }\n",
       "</style>\n",
       "<table border=\"1\" class=\"dataframe\">\n",
       "  <thead>\n",
       "    <tr style=\"text-align: right;\">\n",
       "      <th></th>\n",
       "      <th>UID</th>\n",
       "      <th>Theme</th>\n",
       "      <th>Category</th>\n",
       "      <th>Sub-category</th>\n",
       "      <th>Entity-Type</th>\n",
       "      <th>Test Case ID</th>\n",
       "      <th>OFAC List UID</th>\n",
       "      <th>Original Name</th>\n",
       "      <th>Test Case Name</th>\n",
       "    </tr>\n",
       "  </thead>\n",
       "  <tbody>\n",
       "  </tbody>\n",
       "</table>\n",
       "</div>"
      ],
      "text/plain": [
       "Empty DataFrame\n",
       "Columns: [UID, Theme, Category, Sub-category, Entity-Type, Test Case ID, OFAC List UID, Original Name, Test Case Name]\n",
       "Index: []"
      ]
     },
     "execution_count": 7,
     "metadata": {},
     "output_type": "execute_result"
    }
   ],
   "source": [
    "final_test_cases = pd.DataFrame(columns=['UID', 'Theme','Category','Sub-category','Entity-Type','Test Case ID' , 'OFAC List UID', 'Original Name','Test Case Name'])\n",
    "final_test_cases"
   ]
  },
  {
   "cell_type": "markdown",
   "id": "e8949bbd",
   "metadata": {},
   "source": [
    "## run loop to generate the test cases"
   ]
  },
  {
   "cell_type": "code",
   "execution_count": 8,
   "id": "f18b6995",
   "metadata": {},
   "outputs": [
    {
     "data": {
      "text/html": [
       "<div>\n",
       "<style scoped>\n",
       "    .dataframe tbody tr th:only-of-type {\n",
       "        vertical-align: middle;\n",
       "    }\n",
       "\n",
       "    .dataframe tbody tr th {\n",
       "        vertical-align: top;\n",
       "    }\n",
       "\n",
       "    .dataframe thead th {\n",
       "        text-align: right;\n",
       "    }\n",
       "</style>\n",
       "<table border=\"1\" class=\"dataframe\">\n",
       "  <thead>\n",
       "    <tr style=\"text-align: right;\">\n",
       "      <th></th>\n",
       "      <th>UID</th>\n",
       "      <th>Theme</th>\n",
       "      <th>Category</th>\n",
       "      <th>Sub-category</th>\n",
       "      <th>Entity-Type</th>\n",
       "      <th>Test Case ID</th>\n",
       "      <th>OFAC List UID</th>\n",
       "      <th>Original Name</th>\n",
       "      <th>Test Case Name</th>\n",
       "    </tr>\n",
       "  </thead>\n",
       "  <tbody>\n",
       "    <tr>\n",
       "      <th>0</th>\n",
       "      <td>UID-275</td>\n",
       "      <td>Names where name parts are Modified</td>\n",
       "      <td>Truncation</td>\n",
       "      <td>1 Letter Truncation in the end</td>\n",
       "      <td>Individual</td>\n",
       "      <td>UID-275 - 4606</td>\n",
       "      <td>20441</td>\n",
       "      <td>JAMOUS, Hussam</td>\n",
       "      <td>JAMOUS, HUSSA</td>\n",
       "    </tr>\n",
       "    <tr>\n",
       "      <th>1</th>\n",
       "      <td>UID-275</td>\n",
       "      <td>Names where name parts are Modified</td>\n",
       "      <td>Truncation</td>\n",
       "      <td>1 Letter Truncation in the end</td>\n",
       "      <td>Individual</td>\n",
       "      <td>UID-275 - 8220</td>\n",
       "      <td>30552</td>\n",
       "      <td>HASNAIN, Syed Johar</td>\n",
       "      <td>HASNAIN, SYED JOHA</td>\n",
       "    </tr>\n",
       "    <tr>\n",
       "      <th>2</th>\n",
       "      <td>UID-275</td>\n",
       "      <td>Names where name parts are Modified</td>\n",
       "      <td>Truncation</td>\n",
       "      <td>1 Letter Truncation in the end</td>\n",
       "      <td>Individual</td>\n",
       "      <td>UID-275 - 1145</td>\n",
       "      <td>9491</td>\n",
       "      <td>SHAMU, Webster Kotiwani</td>\n",
       "      <td>SHAMU, WEBSTER KOTIWAN</td>\n",
       "    </tr>\n",
       "    <tr>\n",
       "      <th>3</th>\n",
       "      <td>UID-275</td>\n",
       "      <td>Names where name parts are Modified</td>\n",
       "      <td>Truncation</td>\n",
       "      <td>1 Letter Truncation in the end</td>\n",
       "      <td>Individual</td>\n",
       "      <td>UID-275 - 4559</td>\n",
       "      <td>20251</td>\n",
       "      <td>LOPEZ BELLO, Samark Jose</td>\n",
       "      <td>LOPEZ BELLO, SAMARK JOS</td>\n",
       "    </tr>\n",
       "    <tr>\n",
       "      <th>4</th>\n",
       "      <td>UID-275</td>\n",
       "      <td>Names where name parts are Modified</td>\n",
       "      <td>Truncation</td>\n",
       "      <td>1 Letter Truncation in the end</td>\n",
       "      <td>Individual</td>\n",
       "      <td>UID-275 - 4256</td>\n",
       "      <td>19029</td>\n",
       "      <td>MURATOV, Aleksey</td>\n",
       "      <td>MURATOV, ALEKSE</td>\n",
       "    </tr>\n",
       "    <tr>\n",
       "      <th>5</th>\n",
       "      <td>UID-275</td>\n",
       "      <td>Names where name parts are Modified</td>\n",
       "      <td>Truncation</td>\n",
       "      <td>1 Letter Truncation in the end</td>\n",
       "      <td>Individual</td>\n",
       "      <td>UID-275 - 3694</td>\n",
       "      <td>17024</td>\n",
       "      <td>BORODAY, Alexander Yuryevich</td>\n",
       "      <td>BORODAY, ALEXANDER YURYEVIC</td>\n",
       "    </tr>\n",
       "    <tr>\n",
       "      <th>6</th>\n",
       "      <td>UID-275</td>\n",
       "      <td>Names where name parts are Modified</td>\n",
       "      <td>Truncation</td>\n",
       "      <td>1 Letter Truncation in the end</td>\n",
       "      <td>Individual</td>\n",
       "      <td>UID-275 - 5937</td>\n",
       "      <td>24389</td>\n",
       "      <td>BAZZI, Mohammad Ibrahim</td>\n",
       "      <td>BAZZI, MOHAMMAD IBRAHI</td>\n",
       "    </tr>\n",
       "    <tr>\n",
       "      <th>7</th>\n",
       "      <td>UID-275</td>\n",
       "      <td>Names where name parts are Modified</td>\n",
       "      <td>Truncation</td>\n",
       "      <td>1 Letter Truncation in the end</td>\n",
       "      <td>Individual</td>\n",
       "      <td>UID-275 - 809</td>\n",
       "      <td>8227</td>\n",
       "      <td>BURHAN, Dr. Sahir</td>\n",
       "      <td>BURHAN, DR. SAHI</td>\n",
       "    </tr>\n",
       "    <tr>\n",
       "      <th>8</th>\n",
       "      <td>UID-275</td>\n",
       "      <td>Names where name parts are Modified</td>\n",
       "      <td>Truncation</td>\n",
       "      <td>1 Letter Truncation in the end</td>\n",
       "      <td>Individual</td>\n",
       "      <td>UID-275 - 317</td>\n",
       "      <td>7251</td>\n",
       "      <td>BEN SOLTANE, Adel</td>\n",
       "      <td>BEN SOLTANE, ADE</td>\n",
       "    </tr>\n",
       "    <tr>\n",
       "      <th>9</th>\n",
       "      <td>UID-275</td>\n",
       "      <td>Names where name parts are Modified</td>\n",
       "      <td>Truncation</td>\n",
       "      <td>1 Letter Truncation in the end</td>\n",
       "      <td>Individual</td>\n",
       "      <td>UID-275 - 4348</td>\n",
       "      <td>19252</td>\n",
       "      <td>POURNAGHSHBAND, Hossein</td>\n",
       "      <td>POURNAGHSHBAND, HOSSEI</td>\n",
       "    </tr>\n",
       "  </tbody>\n",
       "</table>\n",
       "</div>"
      ],
      "text/plain": [
       "       UID                                Theme    Category  \\\n",
       "0  UID-275  Names where name parts are Modified  Truncation   \n",
       "1  UID-275  Names where name parts are Modified  Truncation   \n",
       "2  UID-275  Names where name parts are Modified  Truncation   \n",
       "3  UID-275  Names where name parts are Modified  Truncation   \n",
       "4  UID-275  Names where name parts are Modified  Truncation   \n",
       "5  UID-275  Names where name parts are Modified  Truncation   \n",
       "6  UID-275  Names where name parts are Modified  Truncation   \n",
       "7  UID-275  Names where name parts are Modified  Truncation   \n",
       "8  UID-275  Names where name parts are Modified  Truncation   \n",
       "9  UID-275  Names where name parts are Modified  Truncation   \n",
       "\n",
       "                     Sub-category Entity-Type    Test Case ID OFAC List UID  \\\n",
       "0  1 Letter Truncation in the end  Individual  UID-275 - 4606         20441   \n",
       "1  1 Letter Truncation in the end  Individual  UID-275 - 8220         30552   \n",
       "2  1 Letter Truncation in the end  Individual  UID-275 - 1145          9491   \n",
       "3  1 Letter Truncation in the end  Individual  UID-275 - 4559         20251   \n",
       "4  1 Letter Truncation in the end  Individual  UID-275 - 4256         19029   \n",
       "5  1 Letter Truncation in the end  Individual  UID-275 - 3694         17024   \n",
       "6  1 Letter Truncation in the end  Individual  UID-275 - 5937         24389   \n",
       "7  1 Letter Truncation in the end  Individual   UID-275 - 809          8227   \n",
       "8  1 Letter Truncation in the end  Individual   UID-275 - 317          7251   \n",
       "9  1 Letter Truncation in the end  Individual  UID-275 - 4348         19252   \n",
       "\n",
       "                  Original Name               Test Case Name  \n",
       "0                JAMOUS, Hussam                JAMOUS, HUSSA  \n",
       "1           HASNAIN, Syed Johar           HASNAIN, SYED JOHA  \n",
       "2       SHAMU, Webster Kotiwani       SHAMU, WEBSTER KOTIWAN  \n",
       "3      LOPEZ BELLO, Samark Jose      LOPEZ BELLO, SAMARK JOS  \n",
       "4              MURATOV, Aleksey              MURATOV, ALEKSE  \n",
       "5  BORODAY, Alexander Yuryevich  BORODAY, ALEXANDER YURYEVIC  \n",
       "6       BAZZI, Mohammad Ibrahim       BAZZI, MOHAMMAD IBRAHI  \n",
       "7             BURHAN, Dr. Sahir             BURHAN, DR. SAHI  \n",
       "8             BEN SOLTANE, Adel             BEN SOLTANE, ADE  \n",
       "9       POURNAGHSHBAND, Hossein       POURNAGHSHBAND, HOSSEI  "
      ]
     },
     "execution_count": 8,
     "metadata": {},
     "output_type": "execute_result"
    }
   ],
   "source": [
    "for index, row in ofac_list_sampled.iterrows():\n",
    "    original_name = row['name'].upper()\n",
    "    split_original_name = original_name.split(' ') # split name into word\n",
    "    final_test_name = split_original_name.copy()\n",
    "    \n",
    "    truncate_word = split_original_name[-1] # choose word to be truncated\n",
    "        \n",
    "    final_test_name[final_test_name.index(truncate_word)] = truncate_word[:-1]\n",
    "\n",
    "    final_test_name = ' '.join(final_test_name)\n",
    "    \n",
    "    final_test_cases.loc[len(final_test_cases)] = [uid, theme, category, sub_category, entity_type, uid + ' - ' + str(index), row['uid'], row['name'], final_test_name] # append to the dataframe\n",
    "\n",
    "final_test_cases"
   ]
  }
 ],
 "metadata": {
  "kernelspec": {
   "display_name": "Python 3 (ipykernel)",
   "language": "python",
   "name": "python3"
  },
  "language_info": {
   "codemirror_mode": {
    "name": "ipython",
    "version": 3
   },
   "file_extension": ".py",
   "mimetype": "text/x-python",
   "name": "python",
   "nbconvert_exporter": "python",
   "pygments_lexer": "ipython3",
   "version": "3.8.8"
  }
 },
 "nbformat": 4,
 "nbformat_minor": 5
}
