{
 "cells": [
  {
   "cell_type": "markdown",
   "id": "e587297b",
   "metadata": {},
   "source": [
    "# IMPORT DATA, PACKAGES, AND FUNCTIONS"
   ]
  },
  {
   "cell_type": "markdown",
   "id": "2bf79a81",
   "metadata": {},
   "source": [
    "## import the relevant functions and packages"
   ]
  },
  {
   "cell_type": "code",
   "execution_count": 1,
   "id": "000435e8",
   "metadata": {},
   "outputs": [],
   "source": [
    "import pandas as pd\n",
    "import numpy as np\n",
    "from test_case_generator_functions import alphabet"
   ]
  },
  {
   "cell_type": "markdown",
   "id": "f63740d7",
   "metadata": {},
   "source": [
    "# TEST CASE TYPE REFERENCE INFORMATION"
   ]
  },
  {
   "cell_type": "code",
   "execution_count": 2,
   "id": "4b3f7972",
   "metadata": {},
   "outputs": [],
   "source": [
    "uid = 'UID-274' \n",
    "theme = 'Names where name parts are Modified'\n",
    "category = 'Truncation'\n",
    "sub_category = '1 Letter Truncation in the end'\n",
    "entity_type = 'Entity'"
   ]
  },
  {
   "cell_type": "markdown",
   "id": "8aeeb278",
   "metadata": {},
   "source": [
    "## download the OFAC list from the web"
   ]
  },
  {
   "cell_type": "code",
   "execution_count": 3,
   "id": "a27d14e3",
   "metadata": {},
   "outputs": [],
   "source": [
    "ofac_list_download = pd.read_csv('https://www.treasury.gov/ofac/downloads/sdn.csv', header=None)"
   ]
  },
  {
   "cell_type": "code",
   "execution_count": 4,
   "id": "e7436dad",
   "metadata": {},
   "outputs": [],
   "source": [
    "ofac_list = ofac_list_download[[0,1,2]]\n",
    "ofac_list.columns = ['uid', 'name', 'entity_type']"
   ]
  },
  {
   "cell_type": "markdown",
   "id": "401067db",
   "metadata": {},
   "source": [
    "# FILTER FOR THE REQUIREMENTS OF THE TEST CASE TYPE"
   ]
  },
  {
   "cell_type": "markdown",
   "id": "f486eee5",
   "metadata": {},
   "source": [
    "## filter for the requirements of the specific test case type"
   ]
  },
  {
   "cell_type": "code",
   "execution_count": 5,
   "id": "01588e99",
   "metadata": {},
   "outputs": [],
   "source": [
    "ofac_list_filtered = ofac_list[(ofac_list.entity_type == '-0- ')] # only evaluate entities"
   ]
  },
  {
   "cell_type": "markdown",
   "id": "d5b2e9b2",
   "metadata": {},
   "source": [
    "## randomly choose 10 rows"
   ]
  },
  {
   "cell_type": "code",
   "execution_count": 6,
   "id": "edc174eb",
   "metadata": {},
   "outputs": [
    {
     "data": {
      "text/html": [
       "<div>\n",
       "<style scoped>\n",
       "    .dataframe tbody tr th:only-of-type {\n",
       "        vertical-align: middle;\n",
       "    }\n",
       "\n",
       "    .dataframe tbody tr th {\n",
       "        vertical-align: top;\n",
       "    }\n",
       "\n",
       "    .dataframe thead th {\n",
       "        text-align: right;\n",
       "    }\n",
       "</style>\n",
       "<table border=\"1\" class=\"dataframe\">\n",
       "  <thead>\n",
       "    <tr style=\"text-align: right;\">\n",
       "      <th></th>\n",
       "      <th>uid</th>\n",
       "      <th>name</th>\n",
       "      <th>entity_type</th>\n",
       "    </tr>\n",
       "  </thead>\n",
       "  <tbody>\n",
       "    <tr>\n",
       "      <th>6750</th>\n",
       "      <td>26174</td>\n",
       "      <td>GOLDEN WINGS AVIATION</td>\n",
       "      <td>-0-</td>\n",
       "    </tr>\n",
       "    <tr>\n",
       "      <th>3127</th>\n",
       "      <td>15734</td>\n",
       "      <td>KONING MARINE CORP</td>\n",
       "      <td>-0-</td>\n",
       "    </tr>\n",
       "    <tr>\n",
       "      <th>7043</th>\n",
       "      <td>26797</td>\n",
       "      <td>JC CAR AUDIO</td>\n",
       "      <td>-0-</td>\n",
       "    </tr>\n",
       "    <tr>\n",
       "      <th>1853</th>\n",
       "      <td>11440</td>\n",
       "      <td>SINALOA CARTEL</td>\n",
       "      <td>-0-</td>\n",
       "    </tr>\n",
       "    <tr>\n",
       "      <th>3248</th>\n",
       "      <td>15956</td>\n",
       "      <td>SHAZAND PETROCHEMICAL COMPANY</td>\n",
       "      <td>-0-</td>\n",
       "    </tr>\n",
       "    <tr>\n",
       "      <th>5855</th>\n",
       "      <td>23943</td>\n",
       "      <td>INTERNET RESEARCH AGENCY LLC</td>\n",
       "      <td>-0-</td>\n",
       "    </tr>\n",
       "    <tr>\n",
       "      <th>8217</th>\n",
       "      <td>30548</td>\n",
       "      <td>FIDES SHIP MANAGEMENT LLC</td>\n",
       "      <td>-0-</td>\n",
       "    </tr>\n",
       "    <tr>\n",
       "      <th>1969</th>\n",
       "      <td>11635</td>\n",
       "      <td>PETROPARS UK LIMITED</td>\n",
       "      <td>-0-</td>\n",
       "    </tr>\n",
       "    <tr>\n",
       "      <th>5663</th>\n",
       "      <td>23515</td>\n",
       "      <td>KOREA KUMUNSAN SHIPPING CO</td>\n",
       "      <td>-0-</td>\n",
       "    </tr>\n",
       "    <tr>\n",
       "      <th>10028</th>\n",
       "      <td>36457</td>\n",
       "      <td>OOO MANAGEMENT COMPANY BITRIVER</td>\n",
       "      <td>-0-</td>\n",
       "    </tr>\n",
       "  </tbody>\n",
       "</table>\n",
       "</div>"
      ],
      "text/plain": [
       "         uid                             name entity_type\n",
       "6750   26174            GOLDEN WINGS AVIATION        -0- \n",
       "3127   15734               KONING MARINE CORP        -0- \n",
       "7043   26797                     JC CAR AUDIO        -0- \n",
       "1853   11440                   SINALOA CARTEL        -0- \n",
       "3248   15956    SHAZAND PETROCHEMICAL COMPANY        -0- \n",
       "5855   23943     INTERNET RESEARCH AGENCY LLC        -0- \n",
       "8217   30548        FIDES SHIP MANAGEMENT LLC        -0- \n",
       "1969   11635             PETROPARS UK LIMITED        -0- \n",
       "5663   23515       KOREA KUMUNSAN SHIPPING CO        -0- \n",
       "10028  36457  OOO MANAGEMENT COMPANY BITRIVER        -0- "
      ]
     },
     "execution_count": 6,
     "metadata": {},
     "output_type": "execute_result"
    }
   ],
   "source": [
    "while True:\n",
    "    ofac_list_sampled = ofac_list_filtered.sample(n = 10)\n",
    "    cnt = [0] * 10\n",
    "    for ind, name in enumerate(ofac_list_sampled['name']):\n",
    "        split_name = name.upper().split(' ')\n",
    "        \n",
    "        if all(i in alphabet() for i in list(split_name[-1][-1:])) & (len(split_name[-1]) > 1) & (len(' '.join(split_name)) > 10):\n",
    "            cnt[ind] += 1\n",
    "\n",
    "    if all(i == 1 for i in cnt):\n",
    "        break\n",
    "\n",
    "ofac_list_sampled"
   ]
  },
  {
   "cell_type": "markdown",
   "id": "58f19a68",
   "metadata": {},
   "source": [
    "# CREATE THE TEST CASES"
   ]
  },
  {
   "cell_type": "markdown",
   "id": "41205b68",
   "metadata": {},
   "source": [
    "## create blank final test cases table"
   ]
  },
  {
   "cell_type": "code",
   "execution_count": 7,
   "id": "c72219d5",
   "metadata": {},
   "outputs": [
    {
     "data": {
      "text/html": [
       "<div>\n",
       "<style scoped>\n",
       "    .dataframe tbody tr th:only-of-type {\n",
       "        vertical-align: middle;\n",
       "    }\n",
       "\n",
       "    .dataframe tbody tr th {\n",
       "        vertical-align: top;\n",
       "    }\n",
       "\n",
       "    .dataframe thead th {\n",
       "        text-align: right;\n",
       "    }\n",
       "</style>\n",
       "<table border=\"1\" class=\"dataframe\">\n",
       "  <thead>\n",
       "    <tr style=\"text-align: right;\">\n",
       "      <th></th>\n",
       "      <th>UID</th>\n",
       "      <th>Theme</th>\n",
       "      <th>Category</th>\n",
       "      <th>Sub-category</th>\n",
       "      <th>Entity-Type</th>\n",
       "      <th>Test Case ID</th>\n",
       "      <th>OFAC List UID</th>\n",
       "      <th>Original Name</th>\n",
       "      <th>Test Case Name</th>\n",
       "    </tr>\n",
       "  </thead>\n",
       "  <tbody>\n",
       "  </tbody>\n",
       "</table>\n",
       "</div>"
      ],
      "text/plain": [
       "Empty DataFrame\n",
       "Columns: [UID, Theme, Category, Sub-category, Entity-Type, Test Case ID, OFAC List UID, Original Name, Test Case Name]\n",
       "Index: []"
      ]
     },
     "execution_count": 7,
     "metadata": {},
     "output_type": "execute_result"
    }
   ],
   "source": [
    "final_test_cases = pd.DataFrame(columns=['UID', 'Theme','Category','Sub-category','Entity-Type','Test Case ID' , 'OFAC List UID', 'Original Name','Test Case Name'])\n",
    "final_test_cases"
   ]
  },
  {
   "cell_type": "markdown",
   "id": "e8949bbd",
   "metadata": {},
   "source": [
    "## run loop to generate the test cases"
   ]
  },
  {
   "cell_type": "code",
   "execution_count": 8,
   "id": "f18b6995",
   "metadata": {},
   "outputs": [
    {
     "data": {
      "text/html": [
       "<div>\n",
       "<style scoped>\n",
       "    .dataframe tbody tr th:only-of-type {\n",
       "        vertical-align: middle;\n",
       "    }\n",
       "\n",
       "    .dataframe tbody tr th {\n",
       "        vertical-align: top;\n",
       "    }\n",
       "\n",
       "    .dataframe thead th {\n",
       "        text-align: right;\n",
       "    }\n",
       "</style>\n",
       "<table border=\"1\" class=\"dataframe\">\n",
       "  <thead>\n",
       "    <tr style=\"text-align: right;\">\n",
       "      <th></th>\n",
       "      <th>UID</th>\n",
       "      <th>Theme</th>\n",
       "      <th>Category</th>\n",
       "      <th>Sub-category</th>\n",
       "      <th>Entity-Type</th>\n",
       "      <th>Test Case ID</th>\n",
       "      <th>OFAC List UID</th>\n",
       "      <th>Original Name</th>\n",
       "      <th>Test Case Name</th>\n",
       "    </tr>\n",
       "  </thead>\n",
       "  <tbody>\n",
       "    <tr>\n",
       "      <th>0</th>\n",
       "      <td>UID-274</td>\n",
       "      <td>Names where name parts are Modified</td>\n",
       "      <td>Truncation</td>\n",
       "      <td>1 Letter Truncation in the end</td>\n",
       "      <td>Entity</td>\n",
       "      <td>UID-274 - 6750</td>\n",
       "      <td>26174</td>\n",
       "      <td>GOLDEN WINGS AVIATION</td>\n",
       "      <td>GOLDEN WINGS AVIATIO</td>\n",
       "    </tr>\n",
       "    <tr>\n",
       "      <th>1</th>\n",
       "      <td>UID-274</td>\n",
       "      <td>Names where name parts are Modified</td>\n",
       "      <td>Truncation</td>\n",
       "      <td>1 Letter Truncation in the end</td>\n",
       "      <td>Entity</td>\n",
       "      <td>UID-274 - 3127</td>\n",
       "      <td>15734</td>\n",
       "      <td>KONING MARINE CORP</td>\n",
       "      <td>KONING MARINE COR</td>\n",
       "    </tr>\n",
       "    <tr>\n",
       "      <th>2</th>\n",
       "      <td>UID-274</td>\n",
       "      <td>Names where name parts are Modified</td>\n",
       "      <td>Truncation</td>\n",
       "      <td>1 Letter Truncation in the end</td>\n",
       "      <td>Entity</td>\n",
       "      <td>UID-274 - 7043</td>\n",
       "      <td>26797</td>\n",
       "      <td>JC CAR AUDIO</td>\n",
       "      <td>JC CAR AUDI</td>\n",
       "    </tr>\n",
       "    <tr>\n",
       "      <th>3</th>\n",
       "      <td>UID-274</td>\n",
       "      <td>Names where name parts are Modified</td>\n",
       "      <td>Truncation</td>\n",
       "      <td>1 Letter Truncation in the end</td>\n",
       "      <td>Entity</td>\n",
       "      <td>UID-274 - 1853</td>\n",
       "      <td>11440</td>\n",
       "      <td>SINALOA CARTEL</td>\n",
       "      <td>SINALOA CARTE</td>\n",
       "    </tr>\n",
       "    <tr>\n",
       "      <th>4</th>\n",
       "      <td>UID-274</td>\n",
       "      <td>Names where name parts are Modified</td>\n",
       "      <td>Truncation</td>\n",
       "      <td>1 Letter Truncation in the end</td>\n",
       "      <td>Entity</td>\n",
       "      <td>UID-274 - 3248</td>\n",
       "      <td>15956</td>\n",
       "      <td>SHAZAND PETROCHEMICAL COMPANY</td>\n",
       "      <td>SHAZAND PETROCHEMICAL COMPAN</td>\n",
       "    </tr>\n",
       "    <tr>\n",
       "      <th>5</th>\n",
       "      <td>UID-274</td>\n",
       "      <td>Names where name parts are Modified</td>\n",
       "      <td>Truncation</td>\n",
       "      <td>1 Letter Truncation in the end</td>\n",
       "      <td>Entity</td>\n",
       "      <td>UID-274 - 5855</td>\n",
       "      <td>23943</td>\n",
       "      <td>INTERNET RESEARCH AGENCY LLC</td>\n",
       "      <td>INTERNET RESEARCH AGENCY LL</td>\n",
       "    </tr>\n",
       "    <tr>\n",
       "      <th>6</th>\n",
       "      <td>UID-274</td>\n",
       "      <td>Names where name parts are Modified</td>\n",
       "      <td>Truncation</td>\n",
       "      <td>1 Letter Truncation in the end</td>\n",
       "      <td>Entity</td>\n",
       "      <td>UID-274 - 8217</td>\n",
       "      <td>30548</td>\n",
       "      <td>FIDES SHIP MANAGEMENT LLC</td>\n",
       "      <td>FIDES SHIP MANAGEMENT LL</td>\n",
       "    </tr>\n",
       "    <tr>\n",
       "      <th>7</th>\n",
       "      <td>UID-274</td>\n",
       "      <td>Names where name parts are Modified</td>\n",
       "      <td>Truncation</td>\n",
       "      <td>1 Letter Truncation in the end</td>\n",
       "      <td>Entity</td>\n",
       "      <td>UID-274 - 1969</td>\n",
       "      <td>11635</td>\n",
       "      <td>PETROPARS UK LIMITED</td>\n",
       "      <td>PETROPARS UK LIMITE</td>\n",
       "    </tr>\n",
       "    <tr>\n",
       "      <th>8</th>\n",
       "      <td>UID-274</td>\n",
       "      <td>Names where name parts are Modified</td>\n",
       "      <td>Truncation</td>\n",
       "      <td>1 Letter Truncation in the end</td>\n",
       "      <td>Entity</td>\n",
       "      <td>UID-274 - 5663</td>\n",
       "      <td>23515</td>\n",
       "      <td>KOREA KUMUNSAN SHIPPING CO</td>\n",
       "      <td>KOREA KUMUNSAN SHIPPING C</td>\n",
       "    </tr>\n",
       "    <tr>\n",
       "      <th>9</th>\n",
       "      <td>UID-274</td>\n",
       "      <td>Names where name parts are Modified</td>\n",
       "      <td>Truncation</td>\n",
       "      <td>1 Letter Truncation in the end</td>\n",
       "      <td>Entity</td>\n",
       "      <td>UID-274 - 10028</td>\n",
       "      <td>36457</td>\n",
       "      <td>OOO MANAGEMENT COMPANY BITRIVER</td>\n",
       "      <td>OOO MANAGEMENT COMPANY BITRIVE</td>\n",
       "    </tr>\n",
       "  </tbody>\n",
       "</table>\n",
       "</div>"
      ],
      "text/plain": [
       "       UID                                Theme    Category  \\\n",
       "0  UID-274  Names where name parts are Modified  Truncation   \n",
       "1  UID-274  Names where name parts are Modified  Truncation   \n",
       "2  UID-274  Names where name parts are Modified  Truncation   \n",
       "3  UID-274  Names where name parts are Modified  Truncation   \n",
       "4  UID-274  Names where name parts are Modified  Truncation   \n",
       "5  UID-274  Names where name parts are Modified  Truncation   \n",
       "6  UID-274  Names where name parts are Modified  Truncation   \n",
       "7  UID-274  Names where name parts are Modified  Truncation   \n",
       "8  UID-274  Names where name parts are Modified  Truncation   \n",
       "9  UID-274  Names where name parts are Modified  Truncation   \n",
       "\n",
       "                     Sub-category Entity-Type     Test Case ID OFAC List UID  \\\n",
       "0  1 Letter Truncation in the end      Entity   UID-274 - 6750         26174   \n",
       "1  1 Letter Truncation in the end      Entity   UID-274 - 3127         15734   \n",
       "2  1 Letter Truncation in the end      Entity   UID-274 - 7043         26797   \n",
       "3  1 Letter Truncation in the end      Entity   UID-274 - 1853         11440   \n",
       "4  1 Letter Truncation in the end      Entity   UID-274 - 3248         15956   \n",
       "5  1 Letter Truncation in the end      Entity   UID-274 - 5855         23943   \n",
       "6  1 Letter Truncation in the end      Entity   UID-274 - 8217         30548   \n",
       "7  1 Letter Truncation in the end      Entity   UID-274 - 1969         11635   \n",
       "8  1 Letter Truncation in the end      Entity   UID-274 - 5663         23515   \n",
       "9  1 Letter Truncation in the end      Entity  UID-274 - 10028         36457   \n",
       "\n",
       "                     Original Name                  Test Case Name  \n",
       "0            GOLDEN WINGS AVIATION            GOLDEN WINGS AVIATIO  \n",
       "1               KONING MARINE CORP               KONING MARINE COR  \n",
       "2                     JC CAR AUDIO                     JC CAR AUDI  \n",
       "3                   SINALOA CARTEL                   SINALOA CARTE  \n",
       "4    SHAZAND PETROCHEMICAL COMPANY    SHAZAND PETROCHEMICAL COMPAN  \n",
       "5     INTERNET RESEARCH AGENCY LLC     INTERNET RESEARCH AGENCY LL  \n",
       "6        FIDES SHIP MANAGEMENT LLC        FIDES SHIP MANAGEMENT LL  \n",
       "7             PETROPARS UK LIMITED             PETROPARS UK LIMITE  \n",
       "8       KOREA KUMUNSAN SHIPPING CO       KOREA KUMUNSAN SHIPPING C  \n",
       "9  OOO MANAGEMENT COMPANY BITRIVER  OOO MANAGEMENT COMPANY BITRIVE  "
      ]
     },
     "execution_count": 8,
     "metadata": {},
     "output_type": "execute_result"
    }
   ],
   "source": [
    "for index, row in ofac_list_sampled.iterrows():\n",
    "    original_name = row['name'].upper()\n",
    "    split_original_name = original_name.split(' ') # split name into word\n",
    "    final_test_name = split_original_name.copy()\n",
    "    \n",
    "    truncate_word = split_original_name[-1] # choose word to be truncated\n",
    "        \n",
    "    final_test_name[final_test_name.index(truncate_word)] = truncate_word[:-1]\n",
    "\n",
    "    final_test_name = ' '.join(final_test_name)\n",
    "    \n",
    "    final_test_cases.loc[len(final_test_cases)] = [uid, theme, category, sub_category, entity_type, uid + ' - ' + str(index), row['uid'], row['name'], final_test_name] # append to the dataframe\n",
    "\n",
    "final_test_cases"
   ]
  }
 ],
 "metadata": {
  "kernelspec": {
   "display_name": "Python 3 (ipykernel)",
   "language": "python",
   "name": "python3"
  },
  "language_info": {
   "codemirror_mode": {
    "name": "ipython",
    "version": 3
   },
   "file_extension": ".py",
   "mimetype": "text/x-python",
   "name": "python",
   "nbconvert_exporter": "python",
   "pygments_lexer": "ipython3",
   "version": "3.8.8"
  }
 },
 "nbformat": 4,
 "nbformat_minor": 5
}
